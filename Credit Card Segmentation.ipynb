{
 "cells": [
  {
   "cell_type": "markdown",
   "metadata": {},
   "source": [
    "# Import libraries"
   ]
  },
  {
   "cell_type": "code",
   "execution_count": 1,
   "metadata": {},
   "outputs": [],
   "source": [
    "import pandas as pd\n",
    "from factor_analyzer.factor_analyzer import calculate_bartlett_sphericity, calculate_kmo\n",
    "from sklearn.decomposition import FactorAnalysis\n",
    "from factor_analyzer import FactorAnalyzer\n",
    "import matplotlib.pyplot as plt\n",
    "from sklearn.cluster import KMeans\n",
    "import scipy.cluster.hierarchy as sch\n",
    "from sklearn.preprocessing import MinMaxScaler"
   ]
  },
  {
   "cell_type": "markdown",
   "metadata": {},
   "source": [
    "# Load data"
   ]
  },
  {
   "cell_type": "code",
   "execution_count": 2,
   "metadata": {},
   "outputs": [
    {
     "data": {
      "text/html": [
       "<div>\n",
       "<style scoped>\n",
       "    .dataframe tbody tr th:only-of-type {\n",
       "        vertical-align: middle;\n",
       "    }\n",
       "\n",
       "    .dataframe tbody tr th {\n",
       "        vertical-align: top;\n",
       "    }\n",
       "\n",
       "    .dataframe thead th {\n",
       "        text-align: right;\n",
       "    }\n",
       "</style>\n",
       "<table border=\"1\" class=\"dataframe\">\n",
       "  <thead>\n",
       "    <tr style=\"text-align: right;\">\n",
       "      <th></th>\n",
       "      <th>CUST_ID</th>\n",
       "      <th>BALANCE</th>\n",
       "      <th>BALANCE_FREQUENCY</th>\n",
       "      <th>PURCHASES</th>\n",
       "      <th>ONEOFF_PURCHASES</th>\n",
       "      <th>INSTALLMENTS_PURCHASES</th>\n",
       "      <th>CASH_ADVANCE</th>\n",
       "      <th>PURCHASES_FREQUENCY</th>\n",
       "      <th>ONEOFF_PURCHASES_FREQUENCY</th>\n",
       "      <th>PURCHASES_INSTALLMENTS_FREQUENCY</th>\n",
       "      <th>CASH_ADVANCE_FREQUENCY</th>\n",
       "      <th>CASH_ADVANCE_TRX</th>\n",
       "      <th>PURCHASES_TRX</th>\n",
       "      <th>CREDIT_LIMIT</th>\n",
       "      <th>PAYMENTS</th>\n",
       "      <th>MINIMUM_PAYMENTS</th>\n",
       "      <th>PRC_FULL_PAYMENT</th>\n",
       "      <th>TENURE</th>\n",
       "    </tr>\n",
       "  </thead>\n",
       "  <tbody>\n",
       "    <tr>\n",
       "      <th>0</th>\n",
       "      <td>C10001</td>\n",
       "      <td>40.900749</td>\n",
       "      <td>0.818182</td>\n",
       "      <td>95.40</td>\n",
       "      <td>0.00</td>\n",
       "      <td>95.4</td>\n",
       "      <td>0.000000</td>\n",
       "      <td>0.166667</td>\n",
       "      <td>0.000000</td>\n",
       "      <td>0.083333</td>\n",
       "      <td>0.000000</td>\n",
       "      <td>0</td>\n",
       "      <td>2</td>\n",
       "      <td>1000.0</td>\n",
       "      <td>201.802084</td>\n",
       "      <td>139.509787</td>\n",
       "      <td>0.000000</td>\n",
       "      <td>12</td>\n",
       "    </tr>\n",
       "    <tr>\n",
       "      <th>1</th>\n",
       "      <td>C10002</td>\n",
       "      <td>3202.467416</td>\n",
       "      <td>0.909091</td>\n",
       "      <td>0.00</td>\n",
       "      <td>0.00</td>\n",
       "      <td>0.0</td>\n",
       "      <td>6442.945483</td>\n",
       "      <td>0.000000</td>\n",
       "      <td>0.000000</td>\n",
       "      <td>0.000000</td>\n",
       "      <td>0.250000</td>\n",
       "      <td>4</td>\n",
       "      <td>0</td>\n",
       "      <td>7000.0</td>\n",
       "      <td>4103.032597</td>\n",
       "      <td>1072.340217</td>\n",
       "      <td>0.222222</td>\n",
       "      <td>12</td>\n",
       "    </tr>\n",
       "    <tr>\n",
       "      <th>2</th>\n",
       "      <td>C10003</td>\n",
       "      <td>2495.148862</td>\n",
       "      <td>1.000000</td>\n",
       "      <td>773.17</td>\n",
       "      <td>773.17</td>\n",
       "      <td>0.0</td>\n",
       "      <td>0.000000</td>\n",
       "      <td>1.000000</td>\n",
       "      <td>1.000000</td>\n",
       "      <td>0.000000</td>\n",
       "      <td>0.000000</td>\n",
       "      <td>0</td>\n",
       "      <td>12</td>\n",
       "      <td>7500.0</td>\n",
       "      <td>622.066742</td>\n",
       "      <td>627.284787</td>\n",
       "      <td>0.000000</td>\n",
       "      <td>12</td>\n",
       "    </tr>\n",
       "    <tr>\n",
       "      <th>3</th>\n",
       "      <td>C10004</td>\n",
       "      <td>1666.670542</td>\n",
       "      <td>0.636364</td>\n",
       "      <td>1499.00</td>\n",
       "      <td>1499.00</td>\n",
       "      <td>0.0</td>\n",
       "      <td>205.788017</td>\n",
       "      <td>0.083333</td>\n",
       "      <td>0.083333</td>\n",
       "      <td>0.000000</td>\n",
       "      <td>0.083333</td>\n",
       "      <td>1</td>\n",
       "      <td>1</td>\n",
       "      <td>7500.0</td>\n",
       "      <td>0.000000</td>\n",
       "      <td>NaN</td>\n",
       "      <td>0.000000</td>\n",
       "      <td>12</td>\n",
       "    </tr>\n",
       "    <tr>\n",
       "      <th>4</th>\n",
       "      <td>C10005</td>\n",
       "      <td>817.714335</td>\n",
       "      <td>1.000000</td>\n",
       "      <td>16.00</td>\n",
       "      <td>16.00</td>\n",
       "      <td>0.0</td>\n",
       "      <td>0.000000</td>\n",
       "      <td>0.083333</td>\n",
       "      <td>0.083333</td>\n",
       "      <td>0.000000</td>\n",
       "      <td>0.000000</td>\n",
       "      <td>0</td>\n",
       "      <td>1</td>\n",
       "      <td>1200.0</td>\n",
       "      <td>678.334763</td>\n",
       "      <td>244.791237</td>\n",
       "      <td>0.000000</td>\n",
       "      <td>12</td>\n",
       "    </tr>\n",
       "  </tbody>\n",
       "</table>\n",
       "</div>"
      ],
      "text/plain": [
       "  CUST_ID      BALANCE  BALANCE_FREQUENCY  PURCHASES  ONEOFF_PURCHASES  \\\n",
       "0  C10001    40.900749           0.818182      95.40              0.00   \n",
       "1  C10002  3202.467416           0.909091       0.00              0.00   \n",
       "2  C10003  2495.148862           1.000000     773.17            773.17   \n",
       "3  C10004  1666.670542           0.636364    1499.00           1499.00   \n",
       "4  C10005   817.714335           1.000000      16.00             16.00   \n",
       "\n",
       "   INSTALLMENTS_PURCHASES  CASH_ADVANCE  PURCHASES_FREQUENCY  \\\n",
       "0                    95.4      0.000000             0.166667   \n",
       "1                     0.0   6442.945483             0.000000   \n",
       "2                     0.0      0.000000             1.000000   \n",
       "3                     0.0    205.788017             0.083333   \n",
       "4                     0.0      0.000000             0.083333   \n",
       "\n",
       "   ONEOFF_PURCHASES_FREQUENCY  PURCHASES_INSTALLMENTS_FREQUENCY  \\\n",
       "0                    0.000000                          0.083333   \n",
       "1                    0.000000                          0.000000   \n",
       "2                    1.000000                          0.000000   \n",
       "3                    0.083333                          0.000000   \n",
       "4                    0.083333                          0.000000   \n",
       "\n",
       "   CASH_ADVANCE_FREQUENCY  CASH_ADVANCE_TRX  PURCHASES_TRX  CREDIT_LIMIT  \\\n",
       "0                0.000000                 0              2        1000.0   \n",
       "1                0.250000                 4              0        7000.0   \n",
       "2                0.000000                 0             12        7500.0   \n",
       "3                0.083333                 1              1        7500.0   \n",
       "4                0.000000                 0              1        1200.0   \n",
       "\n",
       "      PAYMENTS  MINIMUM_PAYMENTS  PRC_FULL_PAYMENT  TENURE  \n",
       "0   201.802084        139.509787          0.000000      12  \n",
       "1  4103.032597       1072.340217          0.222222      12  \n",
       "2   622.066742        627.284787          0.000000      12  \n",
       "3     0.000000               NaN          0.000000      12  \n",
       "4   678.334763        244.791237          0.000000      12  "
      ]
     },
     "execution_count": 2,
     "metadata": {},
     "output_type": "execute_result"
    }
   ],
   "source": [
    "card_df = pd.read_csv(\"credit-card-data.csv\")\n",
    "card_df.head()"
   ]
  },
  {
   "cell_type": "code",
   "execution_count": 3,
   "metadata": {},
   "outputs": [
    {
     "data": {
      "text/plain": [
       "(8950, 18)"
      ]
     },
     "execution_count": 3,
     "metadata": {},
     "output_type": "execute_result"
    }
   ],
   "source": [
    "total_rows = len(card_df)\n",
    "card_df.shape"
   ]
  },
  {
   "cell_type": "markdown",
   "metadata": {},
   "source": [
    "# Missing Value Analysis"
   ]
  },
  {
   "cell_type": "code",
   "execution_count": 4,
   "metadata": {},
   "outputs": [],
   "source": [
    "missing_val = pd.DataFrame(card_df.isnull().sum(), columns = ['Count'])\n",
    "missing_val['Percentage'] = (missing_val.loc[:,'Count']*100)/len(card_df)"
   ]
  },
  {
   "cell_type": "code",
   "execution_count": 5,
   "metadata": {},
   "outputs": [
    {
     "data": {
      "text/html": [
       "<div>\n",
       "<style scoped>\n",
       "    .dataframe tbody tr th:only-of-type {\n",
       "        vertical-align: middle;\n",
       "    }\n",
       "\n",
       "    .dataframe tbody tr th {\n",
       "        vertical-align: top;\n",
       "    }\n",
       "\n",
       "    .dataframe thead th {\n",
       "        text-align: right;\n",
       "    }\n",
       "</style>\n",
       "<table border=\"1\" class=\"dataframe\">\n",
       "  <thead>\n",
       "    <tr style=\"text-align: right;\">\n",
       "      <th></th>\n",
       "      <th>Count</th>\n",
       "      <th>Percentage</th>\n",
       "    </tr>\n",
       "  </thead>\n",
       "  <tbody>\n",
       "    <tr>\n",
       "      <th>CUST_ID</th>\n",
       "      <td>0</td>\n",
       "      <td>0.000000</td>\n",
       "    </tr>\n",
       "    <tr>\n",
       "      <th>BALANCE</th>\n",
       "      <td>0</td>\n",
       "      <td>0.000000</td>\n",
       "    </tr>\n",
       "    <tr>\n",
       "      <th>BALANCE_FREQUENCY</th>\n",
       "      <td>0</td>\n",
       "      <td>0.000000</td>\n",
       "    </tr>\n",
       "    <tr>\n",
       "      <th>PURCHASES</th>\n",
       "      <td>0</td>\n",
       "      <td>0.000000</td>\n",
       "    </tr>\n",
       "    <tr>\n",
       "      <th>ONEOFF_PURCHASES</th>\n",
       "      <td>0</td>\n",
       "      <td>0.000000</td>\n",
       "    </tr>\n",
       "    <tr>\n",
       "      <th>INSTALLMENTS_PURCHASES</th>\n",
       "      <td>0</td>\n",
       "      <td>0.000000</td>\n",
       "    </tr>\n",
       "    <tr>\n",
       "      <th>CASH_ADVANCE</th>\n",
       "      <td>0</td>\n",
       "      <td>0.000000</td>\n",
       "    </tr>\n",
       "    <tr>\n",
       "      <th>PURCHASES_FREQUENCY</th>\n",
       "      <td>0</td>\n",
       "      <td>0.000000</td>\n",
       "    </tr>\n",
       "    <tr>\n",
       "      <th>ONEOFF_PURCHASES_FREQUENCY</th>\n",
       "      <td>0</td>\n",
       "      <td>0.000000</td>\n",
       "    </tr>\n",
       "    <tr>\n",
       "      <th>PURCHASES_INSTALLMENTS_FREQUENCY</th>\n",
       "      <td>0</td>\n",
       "      <td>0.000000</td>\n",
       "    </tr>\n",
       "    <tr>\n",
       "      <th>CASH_ADVANCE_FREQUENCY</th>\n",
       "      <td>0</td>\n",
       "      <td>0.000000</td>\n",
       "    </tr>\n",
       "    <tr>\n",
       "      <th>CASH_ADVANCE_TRX</th>\n",
       "      <td>0</td>\n",
       "      <td>0.000000</td>\n",
       "    </tr>\n",
       "    <tr>\n",
       "      <th>PURCHASES_TRX</th>\n",
       "      <td>0</td>\n",
       "      <td>0.000000</td>\n",
       "    </tr>\n",
       "    <tr>\n",
       "      <th>CREDIT_LIMIT</th>\n",
       "      <td>1</td>\n",
       "      <td>0.011173</td>\n",
       "    </tr>\n",
       "    <tr>\n",
       "      <th>PAYMENTS</th>\n",
       "      <td>0</td>\n",
       "      <td>0.000000</td>\n",
       "    </tr>\n",
       "    <tr>\n",
       "      <th>MINIMUM_PAYMENTS</th>\n",
       "      <td>313</td>\n",
       "      <td>3.497207</td>\n",
       "    </tr>\n",
       "    <tr>\n",
       "      <th>PRC_FULL_PAYMENT</th>\n",
       "      <td>0</td>\n",
       "      <td>0.000000</td>\n",
       "    </tr>\n",
       "    <tr>\n",
       "      <th>TENURE</th>\n",
       "      <td>0</td>\n",
       "      <td>0.000000</td>\n",
       "    </tr>\n",
       "  </tbody>\n",
       "</table>\n",
       "</div>"
      ],
      "text/plain": [
       "                                  Count  Percentage\n",
       "CUST_ID                               0    0.000000\n",
       "BALANCE                               0    0.000000\n",
       "BALANCE_FREQUENCY                     0    0.000000\n",
       "PURCHASES                             0    0.000000\n",
       "ONEOFF_PURCHASES                      0    0.000000\n",
       "INSTALLMENTS_PURCHASES                0    0.000000\n",
       "CASH_ADVANCE                          0    0.000000\n",
       "PURCHASES_FREQUENCY                   0    0.000000\n",
       "ONEOFF_PURCHASES_FREQUENCY            0    0.000000\n",
       "PURCHASES_INSTALLMENTS_FREQUENCY      0    0.000000\n",
       "CASH_ADVANCE_FREQUENCY                0    0.000000\n",
       "CASH_ADVANCE_TRX                      0    0.000000\n",
       "PURCHASES_TRX                         0    0.000000\n",
       "CREDIT_LIMIT                          1    0.011173\n",
       "PAYMENTS                              0    0.000000\n",
       "MINIMUM_PAYMENTS                    313    3.497207\n",
       "PRC_FULL_PAYMENT                      0    0.000000\n",
       "TENURE                                0    0.000000"
      ]
     },
     "execution_count": 5,
     "metadata": {},
     "output_type": "execute_result"
    }
   ],
   "source": [
    "missing_val"
   ]
  },
  {
   "cell_type": "markdown",
   "metadata": {},
   "source": [
    "### Remove Missing values"
   ]
  },
  {
   "cell_type": "code",
   "execution_count": 6,
   "metadata": {},
   "outputs": [
    {
     "name": "stdout",
     "output_type": "stream",
     "text": [
      "DataLoss After removing missing values : 314\n"
     ]
    }
   ],
   "source": [
    "# card_df.drop((card_df[card_df['CREDIT_LIMIT'].isnull() | card_df['MINIMUM_PAYMENTS'].isnull()]).index, inplace=True)\n",
    "card_df.dropna(inplace=True)\n",
    "print(f\"DataLoss After removing missing values : {total_rows-len(card_df)}\")"
   ]
  },
  {
   "cell_type": "code",
   "execution_count": 7,
   "metadata": {},
   "outputs": [
    {
     "name": "stdout",
     "output_type": "stream",
     "text": [
      "<class 'pandas.core.frame.DataFrame'>\n",
      "Int64Index: 8636 entries, 0 to 8949\n",
      "Data columns (total 18 columns):\n",
      "CUST_ID                             8636 non-null object\n",
      "BALANCE                             8636 non-null float64\n",
      "BALANCE_FREQUENCY                   8636 non-null float64\n",
      "PURCHASES                           8636 non-null float64\n",
      "ONEOFF_PURCHASES                    8636 non-null float64\n",
      "INSTALLMENTS_PURCHASES              8636 non-null float64\n",
      "CASH_ADVANCE                        8636 non-null float64\n",
      "PURCHASES_FREQUENCY                 8636 non-null float64\n",
      "ONEOFF_PURCHASES_FREQUENCY          8636 non-null float64\n",
      "PURCHASES_INSTALLMENTS_FREQUENCY    8636 non-null float64\n",
      "CASH_ADVANCE_FREQUENCY              8636 non-null float64\n",
      "CASH_ADVANCE_TRX                    8636 non-null int64\n",
      "PURCHASES_TRX                       8636 non-null int64\n",
      "CREDIT_LIMIT                        8636 non-null float64\n",
      "PAYMENTS                            8636 non-null float64\n",
      "MINIMUM_PAYMENTS                    8636 non-null float64\n",
      "PRC_FULL_PAYMENT                    8636 non-null float64\n",
      "TENURE                              8636 non-null int64\n",
      "dtypes: float64(14), int64(3), object(1)\n",
      "memory usage: 1.3+ MB\n"
     ]
    }
   ],
   "source": [
    "card_df.info()"
   ]
  },
  {
   "cell_type": "markdown",
   "metadata": {},
   "source": [
    "Data where purchases are zero but they have pruchase transactions"
   ]
  },
  {
   "cell_type": "code",
   "execution_count": 8,
   "metadata": {},
   "outputs": [
    {
     "data": {
      "text/html": [
       "<div>\n",
       "<style scoped>\n",
       "    .dataframe tbody tr th:only-of-type {\n",
       "        vertical-align: middle;\n",
       "    }\n",
       "\n",
       "    .dataframe tbody tr th {\n",
       "        vertical-align: top;\n",
       "    }\n",
       "\n",
       "    .dataframe thead th {\n",
       "        text-align: right;\n",
       "    }\n",
       "</style>\n",
       "<table border=\"1\" class=\"dataframe\">\n",
       "  <thead>\n",
       "    <tr style=\"text-align: right;\">\n",
       "      <th></th>\n",
       "      <th>CUST_ID</th>\n",
       "      <th>BALANCE</th>\n",
       "      <th>BALANCE_FREQUENCY</th>\n",
       "      <th>PURCHASES</th>\n",
       "      <th>ONEOFF_PURCHASES</th>\n",
       "      <th>INSTALLMENTS_PURCHASES</th>\n",
       "      <th>CASH_ADVANCE</th>\n",
       "      <th>PURCHASES_FREQUENCY</th>\n",
       "      <th>ONEOFF_PURCHASES_FREQUENCY</th>\n",
       "      <th>PURCHASES_INSTALLMENTS_FREQUENCY</th>\n",
       "      <th>CASH_ADVANCE_FREQUENCY</th>\n",
       "      <th>CASH_ADVANCE_TRX</th>\n",
       "      <th>PURCHASES_TRX</th>\n",
       "      <th>CREDIT_LIMIT</th>\n",
       "      <th>PAYMENTS</th>\n",
       "      <th>MINIMUM_PAYMENTS</th>\n",
       "      <th>PRC_FULL_PAYMENT</th>\n",
       "      <th>TENURE</th>\n",
       "    </tr>\n",
       "  </thead>\n",
       "  <tbody>\n",
       "    <tr>\n",
       "      <th>4682</th>\n",
       "      <td>C14810</td>\n",
       "      <td>1089.795044</td>\n",
       "      <td>1.000000</td>\n",
       "      <td>0.0</td>\n",
       "      <td>0.0</td>\n",
       "      <td>20.0</td>\n",
       "      <td>38.249993</td>\n",
       "      <td>0.0</td>\n",
       "      <td>0.0</td>\n",
       "      <td>0.166667</td>\n",
       "      <td>0.083333</td>\n",
       "      <td>1</td>\n",
       "      <td>1</td>\n",
       "      <td>1200.0</td>\n",
       "      <td>284.731156</td>\n",
       "      <td>331.103830</td>\n",
       "      <td>0.000000</td>\n",
       "      <td>12</td>\n",
       "    </tr>\n",
       "    <tr>\n",
       "      <th>5727</th>\n",
       "      <td>C15887</td>\n",
       "      <td>1084.649802</td>\n",
       "      <td>1.000000</td>\n",
       "      <td>0.0</td>\n",
       "      <td>0.0</td>\n",
       "      <td>0.0</td>\n",
       "      <td>708.865975</td>\n",
       "      <td>0.0</td>\n",
       "      <td>0.0</td>\n",
       "      <td>0.000000</td>\n",
       "      <td>0.181818</td>\n",
       "      <td>10</td>\n",
       "      <td>1</td>\n",
       "      <td>1500.0</td>\n",
       "      <td>973.731202</td>\n",
       "      <td>252.062796</td>\n",
       "      <td>0.000000</td>\n",
       "      <td>11</td>\n",
       "    </tr>\n",
       "    <tr>\n",
       "      <th>8327</th>\n",
       "      <td>C18548</td>\n",
       "      <td>17.699123</td>\n",
       "      <td>0.454545</td>\n",
       "      <td>0.0</td>\n",
       "      <td>0.0</td>\n",
       "      <td>0.0</td>\n",
       "      <td>29.421611</td>\n",
       "      <td>0.0</td>\n",
       "      <td>0.0</td>\n",
       "      <td>0.000000</td>\n",
       "      <td>0.083333</td>\n",
       "      <td>1</td>\n",
       "      <td>2</td>\n",
       "      <td>2000.0</td>\n",
       "      <td>178.288304</td>\n",
       "      <td>82.738431</td>\n",
       "      <td>0.333333</td>\n",
       "      <td>12</td>\n",
       "    </tr>\n",
       "  </tbody>\n",
       "</table>\n",
       "</div>"
      ],
      "text/plain": [
       "     CUST_ID      BALANCE  BALANCE_FREQUENCY  PURCHASES  ONEOFF_PURCHASES  \\\n",
       "4682  C14810  1089.795044           1.000000        0.0               0.0   \n",
       "5727  C15887  1084.649802           1.000000        0.0               0.0   \n",
       "8327  C18548    17.699123           0.454545        0.0               0.0   \n",
       "\n",
       "      INSTALLMENTS_PURCHASES  CASH_ADVANCE  PURCHASES_FREQUENCY  \\\n",
       "4682                    20.0     38.249993                  0.0   \n",
       "5727                     0.0    708.865975                  0.0   \n",
       "8327                     0.0     29.421611                  0.0   \n",
       "\n",
       "      ONEOFF_PURCHASES_FREQUENCY  PURCHASES_INSTALLMENTS_FREQUENCY  \\\n",
       "4682                         0.0                          0.166667   \n",
       "5727                         0.0                          0.000000   \n",
       "8327                         0.0                          0.000000   \n",
       "\n",
       "      CASH_ADVANCE_FREQUENCY  CASH_ADVANCE_TRX  PURCHASES_TRX  CREDIT_LIMIT  \\\n",
       "4682                0.083333                 1              1        1200.0   \n",
       "5727                0.181818                10              1        1500.0   \n",
       "8327                0.083333                 1              2        2000.0   \n",
       "\n",
       "        PAYMENTS  MINIMUM_PAYMENTS  PRC_FULL_PAYMENT  TENURE  \n",
       "4682  284.731156        331.103830          0.000000      12  \n",
       "5727  973.731202        252.062796          0.000000      11  \n",
       "8327  178.288304         82.738431          0.333333      12  "
      ]
     },
     "execution_count": 8,
     "metadata": {},
     "output_type": "execute_result"
    }
   ],
   "source": [
    "card_df[(card_df['PURCHASES']==0) & (card_df['PURCHASES_TRX']!=0)]"
   ]
  },
  {
   "cell_type": "markdown",
   "metadata": {},
   "source": [
    "Data where pruchase transactions are zero but they have purchases"
   ]
  },
  {
   "cell_type": "code",
   "execution_count": 9,
   "metadata": {},
   "outputs": [
    {
     "data": {
      "text/html": [
       "<div>\n",
       "<style scoped>\n",
       "    .dataframe tbody tr th:only-of-type {\n",
       "        vertical-align: middle;\n",
       "    }\n",
       "\n",
       "    .dataframe tbody tr th {\n",
       "        vertical-align: top;\n",
       "    }\n",
       "\n",
       "    .dataframe thead th {\n",
       "        text-align: right;\n",
       "    }\n",
       "</style>\n",
       "<table border=\"1\" class=\"dataframe\">\n",
       "  <thead>\n",
       "    <tr style=\"text-align: right;\">\n",
       "      <th></th>\n",
       "      <th>CUST_ID</th>\n",
       "      <th>BALANCE</th>\n",
       "      <th>BALANCE_FREQUENCY</th>\n",
       "      <th>PURCHASES</th>\n",
       "      <th>ONEOFF_PURCHASES</th>\n",
       "      <th>INSTALLMENTS_PURCHASES</th>\n",
       "      <th>CASH_ADVANCE</th>\n",
       "      <th>PURCHASES_FREQUENCY</th>\n",
       "      <th>ONEOFF_PURCHASES_FREQUENCY</th>\n",
       "      <th>PURCHASES_INSTALLMENTS_FREQUENCY</th>\n",
       "      <th>CASH_ADVANCE_FREQUENCY</th>\n",
       "      <th>CASH_ADVANCE_TRX</th>\n",
       "      <th>PURCHASES_TRX</th>\n",
       "      <th>CREDIT_LIMIT</th>\n",
       "      <th>PAYMENTS</th>\n",
       "      <th>MINIMUM_PAYMENTS</th>\n",
       "      <th>PRC_FULL_PAYMENT</th>\n",
       "      <th>TENURE</th>\n",
       "    </tr>\n",
       "  </thead>\n",
       "  <tbody>\n",
       "    <tr>\n",
       "      <th>1458</th>\n",
       "      <td>C11506</td>\n",
       "      <td>4.382924</td>\n",
       "      <td>0.272727</td>\n",
       "      <td>130.24</td>\n",
       "      <td>0.00</td>\n",
       "      <td>152.24</td>\n",
       "      <td>0.0</td>\n",
       "      <td>0.083333</td>\n",
       "      <td>0.000000</td>\n",
       "      <td>0.083333</td>\n",
       "      <td>0.0</td>\n",
       "      <td>0</td>\n",
       "      <td>0</td>\n",
       "      <td>14000.0</td>\n",
       "      <td>28988.973880</td>\n",
       "      <td>1092.184812</td>\n",
       "      <td>0.500000</td>\n",
       "      <td>12</td>\n",
       "    </tr>\n",
       "    <tr>\n",
       "      <th>3590</th>\n",
       "      <td>C13691</td>\n",
       "      <td>1.869435</td>\n",
       "      <td>0.454545</td>\n",
       "      <td>0.24</td>\n",
       "      <td>0.24</td>\n",
       "      <td>0.00</td>\n",
       "      <td>0.0</td>\n",
       "      <td>0.083333</td>\n",
       "      <td>0.083333</td>\n",
       "      <td>0.000000</td>\n",
       "      <td>0.0</td>\n",
       "      <td>0</td>\n",
       "      <td>0</td>\n",
       "      <td>3000.0</td>\n",
       "      <td>150.381107</td>\n",
       "      <td>53.294711</td>\n",
       "      <td>0.000000</td>\n",
       "      <td>12</td>\n",
       "    </tr>\n",
       "    <tr>\n",
       "      <th>4497</th>\n",
       "      <td>C14622</td>\n",
       "      <td>72.425884</td>\n",
       "      <td>1.000000</td>\n",
       "      <td>655.68</td>\n",
       "      <td>0.00</td>\n",
       "      <td>655.68</td>\n",
       "      <td>0.0</td>\n",
       "      <td>1.000000</td>\n",
       "      <td>0.000000</td>\n",
       "      <td>1.000000</td>\n",
       "      <td>0.0</td>\n",
       "      <td>0</td>\n",
       "      <td>0</td>\n",
       "      <td>1000.0</td>\n",
       "      <td>718.537117</td>\n",
       "      <td>162.732686</td>\n",
       "      <td>0.333333</td>\n",
       "      <td>12</td>\n",
       "    </tr>\n",
       "  </tbody>\n",
       "</table>\n",
       "</div>"
      ],
      "text/plain": [
       "     CUST_ID    BALANCE  BALANCE_FREQUENCY  PURCHASES  ONEOFF_PURCHASES  \\\n",
       "1458  C11506   4.382924           0.272727     130.24              0.00   \n",
       "3590  C13691   1.869435           0.454545       0.24              0.24   \n",
       "4497  C14622  72.425884           1.000000     655.68              0.00   \n",
       "\n",
       "      INSTALLMENTS_PURCHASES  CASH_ADVANCE  PURCHASES_FREQUENCY  \\\n",
       "1458                  152.24           0.0             0.083333   \n",
       "3590                    0.00           0.0             0.083333   \n",
       "4497                  655.68           0.0             1.000000   \n",
       "\n",
       "      ONEOFF_PURCHASES_FREQUENCY  PURCHASES_INSTALLMENTS_FREQUENCY  \\\n",
       "1458                    0.000000                          0.083333   \n",
       "3590                    0.083333                          0.000000   \n",
       "4497                    0.000000                          1.000000   \n",
       "\n",
       "      CASH_ADVANCE_FREQUENCY  CASH_ADVANCE_TRX  PURCHASES_TRX  CREDIT_LIMIT  \\\n",
       "1458                     0.0                 0              0       14000.0   \n",
       "3590                     0.0                 0              0        3000.0   \n",
       "4497                     0.0                 0              0        1000.0   \n",
       "\n",
       "          PAYMENTS  MINIMUM_PAYMENTS  PRC_FULL_PAYMENT  TENURE  \n",
       "1458  28988.973880       1092.184812          0.500000      12  \n",
       "3590    150.381107         53.294711          0.000000      12  \n",
       "4497    718.537117        162.732686          0.333333      12  "
      ]
     },
     "execution_count": 9,
     "metadata": {},
     "output_type": "execute_result"
    }
   ],
   "source": [
    "card_df[(card_df['PURCHASES']!=0) & (card_df['PURCHASES_TRX']==0)]"
   ]
  },
  {
   "cell_type": "code",
   "execution_count": 10,
   "metadata": {},
   "outputs": [
    {
     "data": {
      "text/html": [
       "<div>\n",
       "<style scoped>\n",
       "    .dataframe tbody tr th:only-of-type {\n",
       "        vertical-align: middle;\n",
       "    }\n",
       "\n",
       "    .dataframe tbody tr th {\n",
       "        vertical-align: top;\n",
       "    }\n",
       "\n",
       "    .dataframe thead th {\n",
       "        text-align: right;\n",
       "    }\n",
       "</style>\n",
       "<table border=\"1\" class=\"dataframe\">\n",
       "  <thead>\n",
       "    <tr style=\"text-align: right;\">\n",
       "      <th></th>\n",
       "      <th>CUST_ID</th>\n",
       "      <th>BALANCE</th>\n",
       "      <th>BALANCE_FREQUENCY</th>\n",
       "      <th>PURCHASES</th>\n",
       "      <th>ONEOFF_PURCHASES</th>\n",
       "      <th>INSTALLMENTS_PURCHASES</th>\n",
       "      <th>CASH_ADVANCE</th>\n",
       "      <th>PURCHASES_FREQUENCY</th>\n",
       "      <th>ONEOFF_PURCHASES_FREQUENCY</th>\n",
       "      <th>PURCHASES_INSTALLMENTS_FREQUENCY</th>\n",
       "      <th>CASH_ADVANCE_FREQUENCY</th>\n",
       "      <th>CASH_ADVANCE_TRX</th>\n",
       "      <th>PURCHASES_TRX</th>\n",
       "      <th>CREDIT_LIMIT</th>\n",
       "      <th>PAYMENTS</th>\n",
       "      <th>MINIMUM_PAYMENTS</th>\n",
       "      <th>PRC_FULL_PAYMENT</th>\n",
       "      <th>TENURE</th>\n",
       "    </tr>\n",
       "  </thead>\n",
       "  <tbody>\n",
       "    <tr>\n",
       "      <th>1458</th>\n",
       "      <td>C11506</td>\n",
       "      <td>4.382924</td>\n",
       "      <td>0.272727</td>\n",
       "      <td>130.24</td>\n",
       "      <td>0.00</td>\n",
       "      <td>152.24</td>\n",
       "      <td>0.000000</td>\n",
       "      <td>0.083333</td>\n",
       "      <td>0.000000</td>\n",
       "      <td>0.083333</td>\n",
       "      <td>0.000000</td>\n",
       "      <td>0</td>\n",
       "      <td>0</td>\n",
       "      <td>14000.0</td>\n",
       "      <td>28988.973880</td>\n",
       "      <td>1092.184812</td>\n",
       "      <td>0.500000</td>\n",
       "      <td>12</td>\n",
       "    </tr>\n",
       "    <tr>\n",
       "      <th>3590</th>\n",
       "      <td>C13691</td>\n",
       "      <td>1.869435</td>\n",
       "      <td>0.454545</td>\n",
       "      <td>0.24</td>\n",
       "      <td>0.24</td>\n",
       "      <td>0.00</td>\n",
       "      <td>0.000000</td>\n",
       "      <td>0.083333</td>\n",
       "      <td>0.083333</td>\n",
       "      <td>0.000000</td>\n",
       "      <td>0.000000</td>\n",
       "      <td>0</td>\n",
       "      <td>0</td>\n",
       "      <td>3000.0</td>\n",
       "      <td>150.381107</td>\n",
       "      <td>53.294711</td>\n",
       "      <td>0.000000</td>\n",
       "      <td>12</td>\n",
       "    </tr>\n",
       "    <tr>\n",
       "      <th>4497</th>\n",
       "      <td>C14622</td>\n",
       "      <td>72.425884</td>\n",
       "      <td>1.000000</td>\n",
       "      <td>655.68</td>\n",
       "      <td>0.00</td>\n",
       "      <td>655.68</td>\n",
       "      <td>0.000000</td>\n",
       "      <td>1.000000</td>\n",
       "      <td>0.000000</td>\n",
       "      <td>1.000000</td>\n",
       "      <td>0.000000</td>\n",
       "      <td>0</td>\n",
       "      <td>0</td>\n",
       "      <td>1000.0</td>\n",
       "      <td>718.537117</td>\n",
       "      <td>162.732686</td>\n",
       "      <td>0.333333</td>\n",
       "      <td>12</td>\n",
       "    </tr>\n",
       "    <tr>\n",
       "      <th>4682</th>\n",
       "      <td>C14810</td>\n",
       "      <td>1089.795044</td>\n",
       "      <td>1.000000</td>\n",
       "      <td>0.00</td>\n",
       "      <td>0.00</td>\n",
       "      <td>20.00</td>\n",
       "      <td>38.249993</td>\n",
       "      <td>0.000000</td>\n",
       "      <td>0.000000</td>\n",
       "      <td>0.166667</td>\n",
       "      <td>0.083333</td>\n",
       "      <td>1</td>\n",
       "      <td>1</td>\n",
       "      <td>1200.0</td>\n",
       "      <td>284.731156</td>\n",
       "      <td>331.103830</td>\n",
       "      <td>0.000000</td>\n",
       "      <td>12</td>\n",
       "    </tr>\n",
       "    <tr>\n",
       "      <th>5727</th>\n",
       "      <td>C15887</td>\n",
       "      <td>1084.649802</td>\n",
       "      <td>1.000000</td>\n",
       "      <td>0.00</td>\n",
       "      <td>0.00</td>\n",
       "      <td>0.00</td>\n",
       "      <td>708.865975</td>\n",
       "      <td>0.000000</td>\n",
       "      <td>0.000000</td>\n",
       "      <td>0.000000</td>\n",
       "      <td>0.181818</td>\n",
       "      <td>10</td>\n",
       "      <td>1</td>\n",
       "      <td>1500.0</td>\n",
       "      <td>973.731202</td>\n",
       "      <td>252.062796</td>\n",
       "      <td>0.000000</td>\n",
       "      <td>11</td>\n",
       "    </tr>\n",
       "    <tr>\n",
       "      <th>8327</th>\n",
       "      <td>C18548</td>\n",
       "      <td>17.699123</td>\n",
       "      <td>0.454545</td>\n",
       "      <td>0.00</td>\n",
       "      <td>0.00</td>\n",
       "      <td>0.00</td>\n",
       "      <td>29.421611</td>\n",
       "      <td>0.000000</td>\n",
       "      <td>0.000000</td>\n",
       "      <td>0.000000</td>\n",
       "      <td>0.083333</td>\n",
       "      <td>1</td>\n",
       "      <td>2</td>\n",
       "      <td>2000.0</td>\n",
       "      <td>178.288304</td>\n",
       "      <td>82.738431</td>\n",
       "      <td>0.333333</td>\n",
       "      <td>12</td>\n",
       "    </tr>\n",
       "  </tbody>\n",
       "</table>\n",
       "</div>"
      ],
      "text/plain": [
       "     CUST_ID      BALANCE  BALANCE_FREQUENCY  PURCHASES  ONEOFF_PURCHASES  \\\n",
       "1458  C11506     4.382924           0.272727     130.24              0.00   \n",
       "3590  C13691     1.869435           0.454545       0.24              0.24   \n",
       "4497  C14622    72.425884           1.000000     655.68              0.00   \n",
       "4682  C14810  1089.795044           1.000000       0.00              0.00   \n",
       "5727  C15887  1084.649802           1.000000       0.00              0.00   \n",
       "8327  C18548    17.699123           0.454545       0.00              0.00   \n",
       "\n",
       "      INSTALLMENTS_PURCHASES  CASH_ADVANCE  PURCHASES_FREQUENCY  \\\n",
       "1458                  152.24      0.000000             0.083333   \n",
       "3590                    0.00      0.000000             0.083333   \n",
       "4497                  655.68      0.000000             1.000000   \n",
       "4682                   20.00     38.249993             0.000000   \n",
       "5727                    0.00    708.865975             0.000000   \n",
       "8327                    0.00     29.421611             0.000000   \n",
       "\n",
       "      ONEOFF_PURCHASES_FREQUENCY  PURCHASES_INSTALLMENTS_FREQUENCY  \\\n",
       "1458                    0.000000                          0.083333   \n",
       "3590                    0.083333                          0.000000   \n",
       "4497                    0.000000                          1.000000   \n",
       "4682                    0.000000                          0.166667   \n",
       "5727                    0.000000                          0.000000   \n",
       "8327                    0.000000                          0.000000   \n",
       "\n",
       "      CASH_ADVANCE_FREQUENCY  CASH_ADVANCE_TRX  PURCHASES_TRX  CREDIT_LIMIT  \\\n",
       "1458                0.000000                 0              0       14000.0   \n",
       "3590                0.000000                 0              0        3000.0   \n",
       "4497                0.000000                 0              0        1000.0   \n",
       "4682                0.083333                 1              1        1200.0   \n",
       "5727                0.181818                10              1        1500.0   \n",
       "8327                0.083333                 1              2        2000.0   \n",
       "\n",
       "          PAYMENTS  MINIMUM_PAYMENTS  PRC_FULL_PAYMENT  TENURE  \n",
       "1458  28988.973880       1092.184812          0.500000      12  \n",
       "3590    150.381107         53.294711          0.000000      12  \n",
       "4497    718.537117        162.732686          0.333333      12  \n",
       "4682    284.731156        331.103830          0.000000      12  \n",
       "5727    973.731202        252.062796          0.000000      11  \n",
       "8327    178.288304         82.738431          0.333333      12  "
      ]
     },
     "execution_count": 10,
     "metadata": {},
     "output_type": "execute_result"
    }
   ],
   "source": [
    "card_df[((card_df['PURCHASES']==0) & (card_df['PURCHASES_TRX']!=0)) | ((card_df['PURCHASES']!=0) & (card_df['PURCHASES_TRX']==0))]"
   ]
  },
  {
   "cell_type": "markdown",
   "metadata": {},
   "source": [
    "#### Remove above data as it seems to be a false data"
   ]
  },
  {
   "cell_type": "code",
   "execution_count": 11,
   "metadata": {},
   "outputs": [
    {
     "name": "stdout",
     "output_type": "stream",
     "text": [
      "Rows before delete :  8636\n",
      "Rows after delete :  8630\n"
     ]
    }
   ],
   "source": [
    "print(\"Rows before delete : \",len(card_df))\n",
    "card_df.drop(card_df[((card_df['PURCHASES']==0) & (card_df['PURCHASES_TRX']!=0)) | ((card_df['PURCHASES']!=0) & (card_df['PURCHASES_TRX']==0))].index, inplace=True)\n",
    "print(\"Rows after delete : \",len(card_df))"
   ]
  },
  {
   "cell_type": "markdown",
   "metadata": {},
   "source": [
    "Data where cash advance is zero but they have cash advance transactions,\n",
    "Data where cash advance transactions is zero but they have cash advance"
   ]
  },
  {
   "cell_type": "code",
   "execution_count": 12,
   "metadata": {},
   "outputs": [
    {
     "data": {
      "text/html": [
       "<div>\n",
       "<style scoped>\n",
       "    .dataframe tbody tr th:only-of-type {\n",
       "        vertical-align: middle;\n",
       "    }\n",
       "\n",
       "    .dataframe tbody tr th {\n",
       "        vertical-align: top;\n",
       "    }\n",
       "\n",
       "    .dataframe thead th {\n",
       "        text-align: right;\n",
       "    }\n",
       "</style>\n",
       "<table border=\"1\" class=\"dataframe\">\n",
       "  <thead>\n",
       "    <tr style=\"text-align: right;\">\n",
       "      <th></th>\n",
       "      <th>CUST_ID</th>\n",
       "      <th>BALANCE</th>\n",
       "      <th>BALANCE_FREQUENCY</th>\n",
       "      <th>PURCHASES</th>\n",
       "      <th>ONEOFF_PURCHASES</th>\n",
       "      <th>INSTALLMENTS_PURCHASES</th>\n",
       "      <th>CASH_ADVANCE</th>\n",
       "      <th>PURCHASES_FREQUENCY</th>\n",
       "      <th>ONEOFF_PURCHASES_FREQUENCY</th>\n",
       "      <th>PURCHASES_INSTALLMENTS_FREQUENCY</th>\n",
       "      <th>CASH_ADVANCE_FREQUENCY</th>\n",
       "      <th>CASH_ADVANCE_TRX</th>\n",
       "      <th>PURCHASES_TRX</th>\n",
       "      <th>CREDIT_LIMIT</th>\n",
       "      <th>PAYMENTS</th>\n",
       "      <th>MINIMUM_PAYMENTS</th>\n",
       "      <th>PRC_FULL_PAYMENT</th>\n",
       "      <th>TENURE</th>\n",
       "    </tr>\n",
       "  </thead>\n",
       "  <tbody>\n",
       "  </tbody>\n",
       "</table>\n",
       "</div>"
      ],
      "text/plain": [
       "Empty DataFrame\n",
       "Columns: [CUST_ID, BALANCE, BALANCE_FREQUENCY, PURCHASES, ONEOFF_PURCHASES, INSTALLMENTS_PURCHASES, CASH_ADVANCE, PURCHASES_FREQUENCY, ONEOFF_PURCHASES_FREQUENCY, PURCHASES_INSTALLMENTS_FREQUENCY, CASH_ADVANCE_FREQUENCY, CASH_ADVANCE_TRX, PURCHASES_TRX, CREDIT_LIMIT, PAYMENTS, MINIMUM_PAYMENTS, PRC_FULL_PAYMENT, TENURE]\n",
       "Index: []"
      ]
     },
     "execution_count": 12,
     "metadata": {},
     "output_type": "execute_result"
    }
   ],
   "source": [
    "card_df[((card_df['CASH_ADVANCE']==0) & (card_df['CASH_ADVANCE_TRX']!=0)) | ((card_df['CASH_ADVANCE']!=0) & (card_df['CASH_ADVANCE_TRX']==0))]"
   ]
  },
  {
   "cell_type": "markdown",
   "metadata": {},
   "source": [
    "# 1. Deriving key performance indicators(KPI)"
   ]
  },
  {
   "cell_type": "markdown",
   "metadata": {},
   "source": [
    "- 1.1 - monthly average purchase\n",
    "- 1.2 - monthly cash advance amount\n",
    "- 1.3 - purchases by type (one-off, instalments)\n",
    "- 1.4 - average amount per purchase\n",
    "- 1.5 - cash advance transaction\n",
    "- 1.6 - limit usage (balance to credit limit ratio)\n",
    "- 1.7 - payments to minimum payments ratio \n"
   ]
  },
  {
   "cell_type": "code",
   "execution_count": 13,
   "metadata": {},
   "outputs": [
    {
     "data": {
      "text/plain": [
       "array([12,  8, 11,  9, 10,  6,  7], dtype=int64)"
      ]
     },
     "execution_count": 13,
     "metadata": {},
     "output_type": "execute_result"
    }
   ],
   "source": [
    "# TENURE Number of months as a customer\n",
    "card_df_KPI = pd.DataFrame(card_df['CUST_ID'])\n",
    "card_df.TENURE.unique()"
   ]
  },
  {
   "cell_type": "markdown",
   "metadata": {},
   "source": [
    "### 1.1 - monthly average purchase"
   ]
  },
  {
   "cell_type": "code",
   "execution_count": 14,
   "metadata": {},
   "outputs": [
    {
     "data": {
      "text/html": [
       "<div>\n",
       "<style scoped>\n",
       "    .dataframe tbody tr th:only-of-type {\n",
       "        vertical-align: middle;\n",
       "    }\n",
       "\n",
       "    .dataframe tbody tr th {\n",
       "        vertical-align: top;\n",
       "    }\n",
       "\n",
       "    .dataframe thead th {\n",
       "        text-align: right;\n",
       "    }\n",
       "</style>\n",
       "<table border=\"1\" class=\"dataframe\">\n",
       "  <thead>\n",
       "    <tr style=\"text-align: right;\">\n",
       "      <th></th>\n",
       "      <th>CUST_ID</th>\n",
       "      <th>monthly_avg_purchase</th>\n",
       "    </tr>\n",
       "  </thead>\n",
       "  <tbody>\n",
       "    <tr>\n",
       "      <th>0</th>\n",
       "      <td>C10001</td>\n",
       "      <td>7.950000</td>\n",
       "    </tr>\n",
       "    <tr>\n",
       "      <th>1</th>\n",
       "      <td>C10002</td>\n",
       "      <td>0.000000</td>\n",
       "    </tr>\n",
       "    <tr>\n",
       "      <th>2</th>\n",
       "      <td>C10003</td>\n",
       "      <td>64.430833</td>\n",
       "    </tr>\n",
       "    <tr>\n",
       "      <th>4</th>\n",
       "      <td>C10005</td>\n",
       "      <td>1.333333</td>\n",
       "    </tr>\n",
       "    <tr>\n",
       "      <th>5</th>\n",
       "      <td>C10006</td>\n",
       "      <td>111.106667</td>\n",
       "    </tr>\n",
       "  </tbody>\n",
       "</table>\n",
       "</div>"
      ],
      "text/plain": [
       "  CUST_ID  monthly_avg_purchase\n",
       "0  C10001              7.950000\n",
       "1  C10002              0.000000\n",
       "2  C10003             64.430833\n",
       "4  C10005              1.333333\n",
       "5  C10006            111.106667"
      ]
     },
     "execution_count": 14,
     "metadata": {},
     "output_type": "execute_result"
    }
   ],
   "source": [
    "# PURCHASES Total purchase amount spent during last 12 months\n",
    "card_df_KPI['monthly_avg_purchase'] = card_df.PURCHASES / card_df.TENURE\n",
    "card_df_KPI.head()"
   ]
  },
  {
   "cell_type": "markdown",
   "metadata": {},
   "source": [
    "### 1.2 - monthly cash advance amount"
   ]
  },
  {
   "cell_type": "code",
   "execution_count": 15,
   "metadata": {},
   "outputs": [
    {
     "data": {
      "text/html": [
       "<div>\n",
       "<style scoped>\n",
       "    .dataframe tbody tr th:only-of-type {\n",
       "        vertical-align: middle;\n",
       "    }\n",
       "\n",
       "    .dataframe tbody tr th {\n",
       "        vertical-align: top;\n",
       "    }\n",
       "\n",
       "    .dataframe thead th {\n",
       "        text-align: right;\n",
       "    }\n",
       "</style>\n",
       "<table border=\"1\" class=\"dataframe\">\n",
       "  <thead>\n",
       "    <tr style=\"text-align: right;\">\n",
       "      <th></th>\n",
       "      <th>CUST_ID</th>\n",
       "      <th>monthly_avg_purchase</th>\n",
       "      <th>monthly_cash_advance</th>\n",
       "    </tr>\n",
       "  </thead>\n",
       "  <tbody>\n",
       "    <tr>\n",
       "      <th>0</th>\n",
       "      <td>C10001</td>\n",
       "      <td>7.950000</td>\n",
       "      <td>0.000000</td>\n",
       "    </tr>\n",
       "    <tr>\n",
       "      <th>1</th>\n",
       "      <td>C10002</td>\n",
       "      <td>0.000000</td>\n",
       "      <td>536.912124</td>\n",
       "    </tr>\n",
       "    <tr>\n",
       "      <th>2</th>\n",
       "      <td>C10003</td>\n",
       "      <td>64.430833</td>\n",
       "      <td>0.000000</td>\n",
       "    </tr>\n",
       "    <tr>\n",
       "      <th>4</th>\n",
       "      <td>C10005</td>\n",
       "      <td>1.333333</td>\n",
       "      <td>0.000000</td>\n",
       "    </tr>\n",
       "    <tr>\n",
       "      <th>5</th>\n",
       "      <td>C10006</td>\n",
       "      <td>111.106667</td>\n",
       "      <td>0.000000</td>\n",
       "    </tr>\n",
       "  </tbody>\n",
       "</table>\n",
       "</div>"
      ],
      "text/plain": [
       "  CUST_ID  monthly_avg_purchase  monthly_cash_advance\n",
       "0  C10001              7.950000              0.000000\n",
       "1  C10002              0.000000            536.912124\n",
       "2  C10003             64.430833              0.000000\n",
       "4  C10005              1.333333              0.000000\n",
       "5  C10006            111.106667              0.000000"
      ]
     },
     "execution_count": 15,
     "metadata": {},
     "output_type": "execute_result"
    }
   ],
   "source": [
    "card_df_KPI['monthly_cash_advance'] = card_df.CASH_ADVANCE / card_df.TENURE\n",
    "card_df_KPI.head()"
   ]
  },
  {
   "cell_type": "markdown",
   "metadata": {},
   "source": [
    "### 1.3 - monthly purchases by type (one-off, instalments)"
   ]
  },
  {
   "cell_type": "code",
   "execution_count": 16,
   "metadata": {},
   "outputs": [
    {
     "data": {
      "text/html": [
       "<div>\n",
       "<style scoped>\n",
       "    .dataframe tbody tr th:only-of-type {\n",
       "        vertical-align: middle;\n",
       "    }\n",
       "\n",
       "    .dataframe tbody tr th {\n",
       "        vertical-align: top;\n",
       "    }\n",
       "\n",
       "    .dataframe thead th {\n",
       "        text-align: right;\n",
       "    }\n",
       "</style>\n",
       "<table border=\"1\" class=\"dataframe\">\n",
       "  <thead>\n",
       "    <tr style=\"text-align: right;\">\n",
       "      <th></th>\n",
       "      <th>CUST_ID</th>\n",
       "      <th>monthly_avg_purchase</th>\n",
       "      <th>monthly_cash_advance</th>\n",
       "      <th>monthly_oneoff_purchase</th>\n",
       "      <th>monthly_installment_purchase</th>\n",
       "    </tr>\n",
       "  </thead>\n",
       "  <tbody>\n",
       "    <tr>\n",
       "      <th>0</th>\n",
       "      <td>C10001</td>\n",
       "      <td>7.950000</td>\n",
       "      <td>0.000000</td>\n",
       "      <td>0.000000</td>\n",
       "      <td>7.950000</td>\n",
       "    </tr>\n",
       "    <tr>\n",
       "      <th>1</th>\n",
       "      <td>C10002</td>\n",
       "      <td>0.000000</td>\n",
       "      <td>536.912124</td>\n",
       "      <td>0.000000</td>\n",
       "      <td>0.000000</td>\n",
       "    </tr>\n",
       "    <tr>\n",
       "      <th>2</th>\n",
       "      <td>C10003</td>\n",
       "      <td>64.430833</td>\n",
       "      <td>0.000000</td>\n",
       "      <td>64.430833</td>\n",
       "      <td>0.000000</td>\n",
       "    </tr>\n",
       "    <tr>\n",
       "      <th>4</th>\n",
       "      <td>C10005</td>\n",
       "      <td>1.333333</td>\n",
       "      <td>0.000000</td>\n",
       "      <td>1.333333</td>\n",
       "      <td>0.000000</td>\n",
       "    </tr>\n",
       "    <tr>\n",
       "      <th>5</th>\n",
       "      <td>C10006</td>\n",
       "      <td>111.106667</td>\n",
       "      <td>0.000000</td>\n",
       "      <td>0.000000</td>\n",
       "      <td>111.106667</td>\n",
       "    </tr>\n",
       "  </tbody>\n",
       "</table>\n",
       "</div>"
      ],
      "text/plain": [
       "  CUST_ID  monthly_avg_purchase  monthly_cash_advance  \\\n",
       "0  C10001              7.950000              0.000000   \n",
       "1  C10002              0.000000            536.912124   \n",
       "2  C10003             64.430833              0.000000   \n",
       "4  C10005              1.333333              0.000000   \n",
       "5  C10006            111.106667              0.000000   \n",
       "\n",
       "   monthly_oneoff_purchase  monthly_installment_purchase  \n",
       "0                 0.000000                      7.950000  \n",
       "1                 0.000000                      0.000000  \n",
       "2                64.430833                      0.000000  \n",
       "4                 1.333333                      0.000000  \n",
       "5                 0.000000                    111.106667  "
      ]
     },
     "execution_count": 16,
     "metadata": {},
     "output_type": "execute_result"
    }
   ],
   "source": [
    "card_df_KPI['monthly_oneoff_purchase'] = card_df.ONEOFF_PURCHASES / card_df.TENURE\n",
    "card_df_KPI['monthly_installment_purchase'] = card_df.INSTALLMENTS_PURCHASES / card_df.TENURE\n",
    "card_df_KPI.head()"
   ]
  },
  {
   "cell_type": "markdown",
   "metadata": {},
   "source": [
    "### 1.4 - average amount per purchase"
   ]
  },
  {
   "cell_type": "code",
   "execution_count": 17,
   "metadata": {},
   "outputs": [
    {
     "data": {
      "text/html": [
       "<div>\n",
       "<style scoped>\n",
       "    .dataframe tbody tr th:only-of-type {\n",
       "        vertical-align: middle;\n",
       "    }\n",
       "\n",
       "    .dataframe tbody tr th {\n",
       "        vertical-align: top;\n",
       "    }\n",
       "\n",
       "    .dataframe thead th {\n",
       "        text-align: right;\n",
       "    }\n",
       "</style>\n",
       "<table border=\"1\" class=\"dataframe\">\n",
       "  <thead>\n",
       "    <tr style=\"text-align: right;\">\n",
       "      <th></th>\n",
       "      <th>CUST_ID</th>\n",
       "      <th>monthly_avg_purchase</th>\n",
       "      <th>monthly_cash_advance</th>\n",
       "      <th>monthly_oneoff_purchase</th>\n",
       "      <th>monthly_installment_purchase</th>\n",
       "      <th>average_amount_per_purchase</th>\n",
       "    </tr>\n",
       "  </thead>\n",
       "  <tbody>\n",
       "    <tr>\n",
       "      <th>0</th>\n",
       "      <td>C10001</td>\n",
       "      <td>7.950000</td>\n",
       "      <td>0.000000</td>\n",
       "      <td>0.000000</td>\n",
       "      <td>7.950000</td>\n",
       "      <td>47.700000</td>\n",
       "    </tr>\n",
       "    <tr>\n",
       "      <th>1</th>\n",
       "      <td>C10002</td>\n",
       "      <td>0.000000</td>\n",
       "      <td>536.912124</td>\n",
       "      <td>0.000000</td>\n",
       "      <td>0.000000</td>\n",
       "      <td>NaN</td>\n",
       "    </tr>\n",
       "    <tr>\n",
       "      <th>2</th>\n",
       "      <td>C10003</td>\n",
       "      <td>64.430833</td>\n",
       "      <td>0.000000</td>\n",
       "      <td>64.430833</td>\n",
       "      <td>0.000000</td>\n",
       "      <td>64.430833</td>\n",
       "    </tr>\n",
       "    <tr>\n",
       "      <th>4</th>\n",
       "      <td>C10005</td>\n",
       "      <td>1.333333</td>\n",
       "      <td>0.000000</td>\n",
       "      <td>1.333333</td>\n",
       "      <td>0.000000</td>\n",
       "      <td>16.000000</td>\n",
       "    </tr>\n",
       "    <tr>\n",
       "      <th>5</th>\n",
       "      <td>C10006</td>\n",
       "      <td>111.106667</td>\n",
       "      <td>0.000000</td>\n",
       "      <td>0.000000</td>\n",
       "      <td>111.106667</td>\n",
       "      <td>166.660000</td>\n",
       "    </tr>\n",
       "  </tbody>\n",
       "</table>\n",
       "</div>"
      ],
      "text/plain": [
       "  CUST_ID  monthly_avg_purchase  monthly_cash_advance  \\\n",
       "0  C10001              7.950000              0.000000   \n",
       "1  C10002              0.000000            536.912124   \n",
       "2  C10003             64.430833              0.000000   \n",
       "4  C10005              1.333333              0.000000   \n",
       "5  C10006            111.106667              0.000000   \n",
       "\n",
       "   monthly_oneoff_purchase  monthly_installment_purchase  \\\n",
       "0                 0.000000                      7.950000   \n",
       "1                 0.000000                      0.000000   \n",
       "2                64.430833                      0.000000   \n",
       "4                 1.333333                      0.000000   \n",
       "5                 0.000000                    111.106667   \n",
       "\n",
       "   average_amount_per_purchase  \n",
       "0                    47.700000  \n",
       "1                          NaN  \n",
       "2                    64.430833  \n",
       "4                    16.000000  \n",
       "5                   166.660000  "
      ]
     },
     "execution_count": 17,
     "metadata": {},
     "output_type": "execute_result"
    }
   ],
   "source": [
    "card_df_KPI['average_amount_per_purchase'] = card_df.PURCHASES/card_df.PURCHASES_TRX\n",
    "card_df_KPI.head()"
   ]
  },
  {
   "cell_type": "markdown",
   "metadata": {},
   "source": [
    "Fill nan with 0"
   ]
  },
  {
   "cell_type": "code",
   "execution_count": 18,
   "metadata": {},
   "outputs": [
    {
     "data": {
      "text/html": [
       "<div>\n",
       "<style scoped>\n",
       "    .dataframe tbody tr th:only-of-type {\n",
       "        vertical-align: middle;\n",
       "    }\n",
       "\n",
       "    .dataframe tbody tr th {\n",
       "        vertical-align: top;\n",
       "    }\n",
       "\n",
       "    .dataframe thead th {\n",
       "        text-align: right;\n",
       "    }\n",
       "</style>\n",
       "<table border=\"1\" class=\"dataframe\">\n",
       "  <thead>\n",
       "    <tr style=\"text-align: right;\">\n",
       "      <th></th>\n",
       "      <th>CUST_ID</th>\n",
       "      <th>monthly_avg_purchase</th>\n",
       "      <th>monthly_cash_advance</th>\n",
       "      <th>monthly_oneoff_purchase</th>\n",
       "      <th>monthly_installment_purchase</th>\n",
       "      <th>average_amount_per_purchase</th>\n",
       "    </tr>\n",
       "  </thead>\n",
       "  <tbody>\n",
       "    <tr>\n",
       "      <th>0</th>\n",
       "      <td>C10001</td>\n",
       "      <td>7.950000</td>\n",
       "      <td>0.000000</td>\n",
       "      <td>0.000000</td>\n",
       "      <td>7.950000</td>\n",
       "      <td>47.700000</td>\n",
       "    </tr>\n",
       "    <tr>\n",
       "      <th>1</th>\n",
       "      <td>C10002</td>\n",
       "      <td>0.000000</td>\n",
       "      <td>536.912124</td>\n",
       "      <td>0.000000</td>\n",
       "      <td>0.000000</td>\n",
       "      <td>0.000000</td>\n",
       "    </tr>\n",
       "    <tr>\n",
       "      <th>2</th>\n",
       "      <td>C10003</td>\n",
       "      <td>64.430833</td>\n",
       "      <td>0.000000</td>\n",
       "      <td>64.430833</td>\n",
       "      <td>0.000000</td>\n",
       "      <td>64.430833</td>\n",
       "    </tr>\n",
       "    <tr>\n",
       "      <th>4</th>\n",
       "      <td>C10005</td>\n",
       "      <td>1.333333</td>\n",
       "      <td>0.000000</td>\n",
       "      <td>1.333333</td>\n",
       "      <td>0.000000</td>\n",
       "      <td>16.000000</td>\n",
       "    </tr>\n",
       "    <tr>\n",
       "      <th>5</th>\n",
       "      <td>C10006</td>\n",
       "      <td>111.106667</td>\n",
       "      <td>0.000000</td>\n",
       "      <td>0.000000</td>\n",
       "      <td>111.106667</td>\n",
       "      <td>166.660000</td>\n",
       "    </tr>\n",
       "  </tbody>\n",
       "</table>\n",
       "</div>"
      ],
      "text/plain": [
       "  CUST_ID  monthly_avg_purchase  monthly_cash_advance  \\\n",
       "0  C10001              7.950000              0.000000   \n",
       "1  C10002              0.000000            536.912124   \n",
       "2  C10003             64.430833              0.000000   \n",
       "4  C10005              1.333333              0.000000   \n",
       "5  C10006            111.106667              0.000000   \n",
       "\n",
       "   monthly_oneoff_purchase  monthly_installment_purchase  \\\n",
       "0                 0.000000                      7.950000   \n",
       "1                 0.000000                      0.000000   \n",
       "2                64.430833                      0.000000   \n",
       "4                 1.333333                      0.000000   \n",
       "5                 0.000000                    111.106667   \n",
       "\n",
       "   average_amount_per_purchase  \n",
       "0                    47.700000  \n",
       "1                     0.000000  \n",
       "2                    64.430833  \n",
       "4                    16.000000  \n",
       "5                   166.660000  "
      ]
     },
     "execution_count": 18,
     "metadata": {},
     "output_type": "execute_result"
    }
   ],
   "source": [
    "card_df_KPI['average_amount_per_purchase'] = card_df_KPI['average_amount_per_purchase'].fillna(0)\n",
    "card_df_KPI.head()"
   ]
  },
  {
   "cell_type": "markdown",
   "metadata": {},
   "source": [
    "### 1.5 - average cash advance transaction"
   ]
  },
  {
   "cell_type": "code",
   "execution_count": 19,
   "metadata": {},
   "outputs": [
    {
     "data": {
      "text/html": [
       "<div>\n",
       "<style scoped>\n",
       "    .dataframe tbody tr th:only-of-type {\n",
       "        vertical-align: middle;\n",
       "    }\n",
       "\n",
       "    .dataframe tbody tr th {\n",
       "        vertical-align: top;\n",
       "    }\n",
       "\n",
       "    .dataframe thead th {\n",
       "        text-align: right;\n",
       "    }\n",
       "</style>\n",
       "<table border=\"1\" class=\"dataframe\">\n",
       "  <thead>\n",
       "    <tr style=\"text-align: right;\">\n",
       "      <th></th>\n",
       "      <th>CUST_ID</th>\n",
       "      <th>monthly_avg_purchase</th>\n",
       "      <th>monthly_cash_advance</th>\n",
       "      <th>monthly_oneoff_purchase</th>\n",
       "      <th>monthly_installment_purchase</th>\n",
       "      <th>average_amount_per_purchase</th>\n",
       "      <th>average_amount_per_cash_advance</th>\n",
       "    </tr>\n",
       "  </thead>\n",
       "  <tbody>\n",
       "    <tr>\n",
       "      <th>0</th>\n",
       "      <td>C10001</td>\n",
       "      <td>7.950000</td>\n",
       "      <td>0.000000</td>\n",
       "      <td>0.000000</td>\n",
       "      <td>7.950000</td>\n",
       "      <td>47.700000</td>\n",
       "      <td>NaN</td>\n",
       "    </tr>\n",
       "    <tr>\n",
       "      <th>1</th>\n",
       "      <td>C10002</td>\n",
       "      <td>0.000000</td>\n",
       "      <td>536.912124</td>\n",
       "      <td>0.000000</td>\n",
       "      <td>0.000000</td>\n",
       "      <td>0.000000</td>\n",
       "      <td>1610.736371</td>\n",
       "    </tr>\n",
       "    <tr>\n",
       "      <th>2</th>\n",
       "      <td>C10003</td>\n",
       "      <td>64.430833</td>\n",
       "      <td>0.000000</td>\n",
       "      <td>64.430833</td>\n",
       "      <td>0.000000</td>\n",
       "      <td>64.430833</td>\n",
       "      <td>NaN</td>\n",
       "    </tr>\n",
       "    <tr>\n",
       "      <th>4</th>\n",
       "      <td>C10005</td>\n",
       "      <td>1.333333</td>\n",
       "      <td>0.000000</td>\n",
       "      <td>1.333333</td>\n",
       "      <td>0.000000</td>\n",
       "      <td>16.000000</td>\n",
       "      <td>NaN</td>\n",
       "    </tr>\n",
       "    <tr>\n",
       "      <th>5</th>\n",
       "      <td>C10006</td>\n",
       "      <td>111.106667</td>\n",
       "      <td>0.000000</td>\n",
       "      <td>0.000000</td>\n",
       "      <td>111.106667</td>\n",
       "      <td>166.660000</td>\n",
       "      <td>NaN</td>\n",
       "    </tr>\n",
       "  </tbody>\n",
       "</table>\n",
       "</div>"
      ],
      "text/plain": [
       "  CUST_ID  monthly_avg_purchase  monthly_cash_advance  \\\n",
       "0  C10001              7.950000              0.000000   \n",
       "1  C10002              0.000000            536.912124   \n",
       "2  C10003             64.430833              0.000000   \n",
       "4  C10005              1.333333              0.000000   \n",
       "5  C10006            111.106667              0.000000   \n",
       "\n",
       "   monthly_oneoff_purchase  monthly_installment_purchase  \\\n",
       "0                 0.000000                      7.950000   \n",
       "1                 0.000000                      0.000000   \n",
       "2                64.430833                      0.000000   \n",
       "4                 1.333333                      0.000000   \n",
       "5                 0.000000                    111.106667   \n",
       "\n",
       "   average_amount_per_purchase  average_amount_per_cash_advance  \n",
       "0                    47.700000                              NaN  \n",
       "1                     0.000000                      1610.736371  \n",
       "2                    64.430833                              NaN  \n",
       "4                    16.000000                              NaN  \n",
       "5                   166.660000                              NaN  "
      ]
     },
     "execution_count": 19,
     "metadata": {},
     "output_type": "execute_result"
    }
   ],
   "source": [
    "card_df_KPI['average_amount_per_cash_advance'] = card_df.CASH_ADVANCE/card_df.CASH_ADVANCE_TRX\n",
    "card_df_KPI.head()"
   ]
  },
  {
   "cell_type": "markdown",
   "metadata": {},
   "source": [
    "Fill NaN with 0"
   ]
  },
  {
   "cell_type": "code",
   "execution_count": 20,
   "metadata": {},
   "outputs": [
    {
     "data": {
      "text/html": [
       "<div>\n",
       "<style scoped>\n",
       "    .dataframe tbody tr th:only-of-type {\n",
       "        vertical-align: middle;\n",
       "    }\n",
       "\n",
       "    .dataframe tbody tr th {\n",
       "        vertical-align: top;\n",
       "    }\n",
       "\n",
       "    .dataframe thead th {\n",
       "        text-align: right;\n",
       "    }\n",
       "</style>\n",
       "<table border=\"1\" class=\"dataframe\">\n",
       "  <thead>\n",
       "    <tr style=\"text-align: right;\">\n",
       "      <th></th>\n",
       "      <th>CUST_ID</th>\n",
       "      <th>monthly_avg_purchase</th>\n",
       "      <th>monthly_cash_advance</th>\n",
       "      <th>monthly_oneoff_purchase</th>\n",
       "      <th>monthly_installment_purchase</th>\n",
       "      <th>average_amount_per_purchase</th>\n",
       "      <th>average_amount_per_cash_advance</th>\n",
       "    </tr>\n",
       "  </thead>\n",
       "  <tbody>\n",
       "    <tr>\n",
       "      <th>0</th>\n",
       "      <td>C10001</td>\n",
       "      <td>7.950000</td>\n",
       "      <td>0.000000</td>\n",
       "      <td>0.000000</td>\n",
       "      <td>7.950000</td>\n",
       "      <td>47.700000</td>\n",
       "      <td>0.000000</td>\n",
       "    </tr>\n",
       "    <tr>\n",
       "      <th>1</th>\n",
       "      <td>C10002</td>\n",
       "      <td>0.000000</td>\n",
       "      <td>536.912124</td>\n",
       "      <td>0.000000</td>\n",
       "      <td>0.000000</td>\n",
       "      <td>0.000000</td>\n",
       "      <td>1610.736371</td>\n",
       "    </tr>\n",
       "    <tr>\n",
       "      <th>2</th>\n",
       "      <td>C10003</td>\n",
       "      <td>64.430833</td>\n",
       "      <td>0.000000</td>\n",
       "      <td>64.430833</td>\n",
       "      <td>0.000000</td>\n",
       "      <td>64.430833</td>\n",
       "      <td>0.000000</td>\n",
       "    </tr>\n",
       "    <tr>\n",
       "      <th>4</th>\n",
       "      <td>C10005</td>\n",
       "      <td>1.333333</td>\n",
       "      <td>0.000000</td>\n",
       "      <td>1.333333</td>\n",
       "      <td>0.000000</td>\n",
       "      <td>16.000000</td>\n",
       "      <td>0.000000</td>\n",
       "    </tr>\n",
       "    <tr>\n",
       "      <th>5</th>\n",
       "      <td>C10006</td>\n",
       "      <td>111.106667</td>\n",
       "      <td>0.000000</td>\n",
       "      <td>0.000000</td>\n",
       "      <td>111.106667</td>\n",
       "      <td>166.660000</td>\n",
       "      <td>0.000000</td>\n",
       "    </tr>\n",
       "  </tbody>\n",
       "</table>\n",
       "</div>"
      ],
      "text/plain": [
       "  CUST_ID  monthly_avg_purchase  monthly_cash_advance  \\\n",
       "0  C10001              7.950000              0.000000   \n",
       "1  C10002              0.000000            536.912124   \n",
       "2  C10003             64.430833              0.000000   \n",
       "4  C10005              1.333333              0.000000   \n",
       "5  C10006            111.106667              0.000000   \n",
       "\n",
       "   monthly_oneoff_purchase  monthly_installment_purchase  \\\n",
       "0                 0.000000                      7.950000   \n",
       "1                 0.000000                      0.000000   \n",
       "2                64.430833                      0.000000   \n",
       "4                 1.333333                      0.000000   \n",
       "5                 0.000000                    111.106667   \n",
       "\n",
       "   average_amount_per_purchase  average_amount_per_cash_advance  \n",
       "0                    47.700000                         0.000000  \n",
       "1                     0.000000                      1610.736371  \n",
       "2                    64.430833                         0.000000  \n",
       "4                    16.000000                         0.000000  \n",
       "5                   166.660000                         0.000000  "
      ]
     },
     "execution_count": 20,
     "metadata": {},
     "output_type": "execute_result"
    }
   ],
   "source": [
    "card_df_KPI['average_amount_per_cash_advance'] = card_df_KPI['average_amount_per_cash_advance'].fillna(0)\n",
    "card_df_KPI.head()"
   ]
  },
  {
   "cell_type": "markdown",
   "metadata": {},
   "source": [
    "### 1.6 - limit usage (balance to credit limit ratio)"
   ]
  },
  {
   "cell_type": "code",
   "execution_count": 21,
   "metadata": {},
   "outputs": [
    {
     "data": {
      "text/html": [
       "<div>\n",
       "<style scoped>\n",
       "    .dataframe tbody tr th:only-of-type {\n",
       "        vertical-align: middle;\n",
       "    }\n",
       "\n",
       "    .dataframe tbody tr th {\n",
       "        vertical-align: top;\n",
       "    }\n",
       "\n",
       "    .dataframe thead th {\n",
       "        text-align: right;\n",
       "    }\n",
       "</style>\n",
       "<table border=\"1\" class=\"dataframe\">\n",
       "  <thead>\n",
       "    <tr style=\"text-align: right;\">\n",
       "      <th></th>\n",
       "      <th>CUST_ID</th>\n",
       "      <th>monthly_avg_purchase</th>\n",
       "      <th>monthly_cash_advance</th>\n",
       "      <th>monthly_oneoff_purchase</th>\n",
       "      <th>monthly_installment_purchase</th>\n",
       "      <th>average_amount_per_purchase</th>\n",
       "      <th>average_amount_per_cash_advance</th>\n",
       "      <th>b2c_lr</th>\n",
       "    </tr>\n",
       "  </thead>\n",
       "  <tbody>\n",
       "    <tr>\n",
       "      <th>0</th>\n",
       "      <td>C10001</td>\n",
       "      <td>7.950000</td>\n",
       "      <td>0.000000</td>\n",
       "      <td>0.000000</td>\n",
       "      <td>7.950000</td>\n",
       "      <td>47.700000</td>\n",
       "      <td>0.000000</td>\n",
       "      <td>4.090075</td>\n",
       "    </tr>\n",
       "    <tr>\n",
       "      <th>1</th>\n",
       "      <td>C10002</td>\n",
       "      <td>0.000000</td>\n",
       "      <td>536.912124</td>\n",
       "      <td>0.000000</td>\n",
       "      <td>0.000000</td>\n",
       "      <td>0.000000</td>\n",
       "      <td>1610.736371</td>\n",
       "      <td>45.749535</td>\n",
       "    </tr>\n",
       "    <tr>\n",
       "      <th>2</th>\n",
       "      <td>C10003</td>\n",
       "      <td>64.430833</td>\n",
       "      <td>0.000000</td>\n",
       "      <td>64.430833</td>\n",
       "      <td>0.000000</td>\n",
       "      <td>64.430833</td>\n",
       "      <td>0.000000</td>\n",
       "      <td>33.268651</td>\n",
       "    </tr>\n",
       "    <tr>\n",
       "      <th>4</th>\n",
       "      <td>C10005</td>\n",
       "      <td>1.333333</td>\n",
       "      <td>0.000000</td>\n",
       "      <td>1.333333</td>\n",
       "      <td>0.000000</td>\n",
       "      <td>16.000000</td>\n",
       "      <td>0.000000</td>\n",
       "      <td>68.142861</td>\n",
       "    </tr>\n",
       "    <tr>\n",
       "      <th>5</th>\n",
       "      <td>C10006</td>\n",
       "      <td>111.106667</td>\n",
       "      <td>0.000000</td>\n",
       "      <td>0.000000</td>\n",
       "      <td>111.106667</td>\n",
       "      <td>166.660000</td>\n",
       "      <td>0.000000</td>\n",
       "      <td>100.546042</td>\n",
       "    </tr>\n",
       "  </tbody>\n",
       "</table>\n",
       "</div>"
      ],
      "text/plain": [
       "  CUST_ID  monthly_avg_purchase  monthly_cash_advance  \\\n",
       "0  C10001              7.950000              0.000000   \n",
       "1  C10002              0.000000            536.912124   \n",
       "2  C10003             64.430833              0.000000   \n",
       "4  C10005              1.333333              0.000000   \n",
       "5  C10006            111.106667              0.000000   \n",
       "\n",
       "   monthly_oneoff_purchase  monthly_installment_purchase  \\\n",
       "0                 0.000000                      7.950000   \n",
       "1                 0.000000                      0.000000   \n",
       "2                64.430833                      0.000000   \n",
       "4                 1.333333                      0.000000   \n",
       "5                 0.000000                    111.106667   \n",
       "\n",
       "   average_amount_per_purchase  average_amount_per_cash_advance      b2c_lr  \n",
       "0                    47.700000                         0.000000    4.090075  \n",
       "1                     0.000000                      1610.736371   45.749535  \n",
       "2                    64.430833                         0.000000   33.268651  \n",
       "4                    16.000000                         0.000000   68.142861  \n",
       "5                   166.660000                         0.000000  100.546042  "
      ]
     },
     "execution_count": 21,
     "metadata": {},
     "output_type": "execute_result"
    }
   ],
   "source": [
    "card_df_KPI['b2c_lr'] = card_df.BALANCE/ card_df.CREDIT_LIMIT * 100\n",
    "card_df_KPI.head()"
   ]
  },
  {
   "cell_type": "markdown",
   "metadata": {},
   "source": [
    "### 1.7 - payments to minimum payments ratio"
   ]
  },
  {
   "cell_type": "code",
   "execution_count": 22,
   "metadata": {},
   "outputs": [
    {
     "data": {
      "text/html": [
       "<div>\n",
       "<style scoped>\n",
       "    .dataframe tbody tr th:only-of-type {\n",
       "        vertical-align: middle;\n",
       "    }\n",
       "\n",
       "    .dataframe tbody tr th {\n",
       "        vertical-align: top;\n",
       "    }\n",
       "\n",
       "    .dataframe thead th {\n",
       "        text-align: right;\n",
       "    }\n",
       "</style>\n",
       "<table border=\"1\" class=\"dataframe\">\n",
       "  <thead>\n",
       "    <tr style=\"text-align: right;\">\n",
       "      <th></th>\n",
       "      <th>CUST_ID</th>\n",
       "      <th>monthly_avg_purchase</th>\n",
       "      <th>monthly_cash_advance</th>\n",
       "      <th>monthly_oneoff_purchase</th>\n",
       "      <th>monthly_installment_purchase</th>\n",
       "      <th>average_amount_per_purchase</th>\n",
       "      <th>average_amount_per_cash_advance</th>\n",
       "      <th>b2c_lr</th>\n",
       "      <th>pay_to_minpay_ratio</th>\n",
       "    </tr>\n",
       "  </thead>\n",
       "  <tbody>\n",
       "    <tr>\n",
       "      <th>0</th>\n",
       "      <td>C10001</td>\n",
       "      <td>7.950000</td>\n",
       "      <td>0.000000</td>\n",
       "      <td>0.000000</td>\n",
       "      <td>7.950000</td>\n",
       "      <td>47.700000</td>\n",
       "      <td>0.000000</td>\n",
       "      <td>4.090075</td>\n",
       "      <td>144.650844</td>\n",
       "    </tr>\n",
       "    <tr>\n",
       "      <th>1</th>\n",
       "      <td>C10002</td>\n",
       "      <td>0.000000</td>\n",
       "      <td>536.912124</td>\n",
       "      <td>0.000000</td>\n",
       "      <td>0.000000</td>\n",
       "      <td>0.000000</td>\n",
       "      <td>1610.736371</td>\n",
       "      <td>45.749535</td>\n",
       "      <td>382.624146</td>\n",
       "    </tr>\n",
       "    <tr>\n",
       "      <th>2</th>\n",
       "      <td>C10003</td>\n",
       "      <td>64.430833</td>\n",
       "      <td>0.000000</td>\n",
       "      <td>64.430833</td>\n",
       "      <td>0.000000</td>\n",
       "      <td>64.430833</td>\n",
       "      <td>0.000000</td>\n",
       "      <td>33.268651</td>\n",
       "      <td>99.168154</td>\n",
       "    </tr>\n",
       "    <tr>\n",
       "      <th>4</th>\n",
       "      <td>C10005</td>\n",
       "      <td>1.333333</td>\n",
       "      <td>0.000000</td>\n",
       "      <td>1.333333</td>\n",
       "      <td>0.000000</td>\n",
       "      <td>16.000000</td>\n",
       "      <td>0.000000</td>\n",
       "      <td>68.142861</td>\n",
       "      <td>277.107453</td>\n",
       "    </tr>\n",
       "    <tr>\n",
       "      <th>5</th>\n",
       "      <td>C10006</td>\n",
       "      <td>111.106667</td>\n",
       "      <td>0.000000</td>\n",
       "      <td>0.000000</td>\n",
       "      <td>111.106667</td>\n",
       "      <td>166.660000</td>\n",
       "      <td>0.000000</td>\n",
       "      <td>100.546042</td>\n",
       "      <td>58.160144</td>\n",
       "    </tr>\n",
       "  </tbody>\n",
       "</table>\n",
       "</div>"
      ],
      "text/plain": [
       "  CUST_ID  monthly_avg_purchase  monthly_cash_advance  \\\n",
       "0  C10001              7.950000              0.000000   \n",
       "1  C10002              0.000000            536.912124   \n",
       "2  C10003             64.430833              0.000000   \n",
       "4  C10005              1.333333              0.000000   \n",
       "5  C10006            111.106667              0.000000   \n",
       "\n",
       "   monthly_oneoff_purchase  monthly_installment_purchase  \\\n",
       "0                 0.000000                      7.950000   \n",
       "1                 0.000000                      0.000000   \n",
       "2                64.430833                      0.000000   \n",
       "4                 1.333333                      0.000000   \n",
       "5                 0.000000                    111.106667   \n",
       "\n",
       "   average_amount_per_purchase  average_amount_per_cash_advance      b2c_lr  \\\n",
       "0                    47.700000                         0.000000    4.090075   \n",
       "1                     0.000000                      1610.736371   45.749535   \n",
       "2                    64.430833                         0.000000   33.268651   \n",
       "4                    16.000000                         0.000000   68.142861   \n",
       "5                   166.660000                         0.000000  100.546042   \n",
       "\n",
       "   pay_to_minpay_ratio  \n",
       "0           144.650844  \n",
       "1           382.624146  \n",
       "2            99.168154  \n",
       "4           277.107453  \n",
       "5            58.160144  "
      ]
     },
     "execution_count": 22,
     "metadata": {},
     "output_type": "execute_result"
    }
   ],
   "source": [
    "card_df_KPI['pay_to_minpay_ratio'] = card_df.PAYMENTS/ card_df.MINIMUM_PAYMENTS * 100\n",
    "card_df_KPI.head()"
   ]
  },
  {
   "cell_type": "markdown",
   "metadata": {},
   "source": [
    "# 2. Insights using KPIs\n"
   ]
  },
  {
   "cell_type": "markdown",
   "metadata": {},
   "source": [
    "### 2.1 Number of users who used Purchases, cash advance and both"
   ]
  },
  {
   "cell_type": "code",
   "execution_count": 23,
   "metadata": {},
   "outputs": [
    {
     "data": {
      "image/png": "[encoded data removed]",
      "text/plain": [
       "<Figure size 720x288 with 1 Axes>"
      ]
     },
     "metadata": {
      "needs_background": "light"
     },
     "output_type": "display_data"
    }
   ],
   "source": [
    "counts = {\n",
    "    'Purchases only':((card_df_KPI['monthly_avg_purchase']!=0) & (card_df_KPI['monthly_cash_advance']==0)).sum(),\n",
    "    'Cash Advance only':((card_df_KPI['monthly_cash_advance']!=0) & (card_df_KPI['monthly_avg_purchase']==0)).sum(),\n",
    "    'Both':((card_df_KPI['monthly_avg_purchase']!=0) & (card_df_KPI['monthly_cash_advance']!=0)).sum(),\n",
    "    'Not any':((card_df_KPI['monthly_avg_purchase']==0) & (card_df_KPI['monthly_cash_advance']==0)).sum()\n",
    "}\n",
    "labels = counts.keys()\n",
    "values = counts.values()\n",
    "fig = plt.figure(figsize=(10,4))\n",
    "plt.bar(labels,values, width=0.4)\n",
    "for index,data in enumerate(values):\n",
    "    plt.text(x=index , y =data+1 , s=f\"{data}\" , fontdict=dict(fontsize=15))\n",
    "plt.ylabel('Counts')\n",
    "plt.title(\"Purchases vs Cash Advance vs Both\")\n",
    "plt.savefig('images/2.1.png')\n",
    "plt.show()"
   ]
  },
  {
   "cell_type": "markdown",
   "metadata": {},
   "source": [
    "### 2.2 Let's compare the amounts of purchases and cash advance of monthly usages"
   ]
  },
  {
   "cell_type": "code",
   "execution_count": 24,
   "metadata": {},
   "outputs": [
    {
     "data": {
      "image/png": "[encoded data removed]",
      "text/plain": [
       "<Figure size 432x288 with 1 Axes>"
      ]
     },
     "metadata": {
      "needs_background": "light"
     },
     "output_type": "display_data"
    }
   ],
   "source": [
    "labels = ['Purchase','Cash Advance']\n",
    "values = [card_df_KPI['monthly_avg_purchase'].sum(), card_df_KPI['monthly_cash_advance'].sum()]\n",
    "plt.bar(labels, values)\n",
    "for index,data in enumerate(values):\n",
    "    plt.text(x=index , y =data+1 , s=f\"{round(data)}\" , fontdict=dict(fontsize=15))\n",
    "plt.title('Amount for Purchase and Cash Advance')\n",
    "plt.ylabel(\"Total Amount\")\n",
    "plt.savefig('images/2.2.png')\n",
    "plt.show()"
   ]
  },
  {
   "cell_type": "markdown",
   "metadata": {},
   "source": [
    "### Now, Let's Dig into purchases"
   ]
  },
  {
   "cell_type": "markdown",
   "metadata": {},
   "source": [
    "#### 2.3 We have two types of purchases, so let's find out how many uses oneoff, installments or both"
   ]
  },
  {
   "cell_type": "code",
   "execution_count": 25,
   "metadata": {},
   "outputs": [
    {
     "data": {
      "image/png": "[encoded data removed]",
      "text/plain": [
       "<Figure size 720x288 with 1 Axes>"
      ]
     },
     "metadata": {
      "needs_background": "light"
     },
     "output_type": "display_data"
    }
   ],
   "source": [
    "counts = {\n",
    "    'One-off Purchases only':((card_df_KPI['monthly_oneoff_purchase']!=0) & (card_df_KPI['monthly_installment_purchase']==0)).sum(),\n",
    "    'Installments only':((card_df_KPI['monthly_installment_purchase']!=0) & (card_df_KPI['monthly_oneoff_purchase']==0)).sum(),\n",
    "    'Both':((card_df_KPI['monthly_oneoff_purchase']!=0) & (card_df_KPI['monthly_installment_purchase']!=0)).sum(),\n",
    "    'Not any':((card_df_KPI['monthly_oneoff_purchase']==0) & (card_df_KPI['monthly_installment_purchase']==0)).sum()\n",
    "}\n",
    "labels = counts.keys()\n",
    "values = counts.values()\n",
    "fig = plt.figure(figsize=(10,4))\n",
    "plt.bar(labels,values, width=0.4)\n",
    "for index,data in enumerate(values):\n",
    "    plt.text(x=index , y =data+1 , s=f\"{data}\" , fontdict=dict(fontsize=15))\n",
    "plt.title(\"One-off vs Installments vs both\")\n",
    "plt.ylabel('Counts')\n",
    "plt.savefig('images/2.3.png')\n",
    "plt.show()"
   ]
  },
  {
   "cell_type": "markdown",
   "metadata": {},
   "source": [
    "#### 2.4 Total amount for each type of Purchases"
   ]
  },
  {
   "cell_type": "code",
   "execution_count": 26,
   "metadata": {},
   "outputs": [
    {
     "data": {
      "image/png": "[encoded data removed]",
      "text/plain": [
       "<Figure size 432x288 with 1 Axes>"
      ]
     },
     "metadata": {
      "needs_background": "light"
     },
     "output_type": "display_data"
    }
   ],
   "source": [
    "labels = ['On-off Purchase','Installments']\n",
    "values = [card_df_KPI['monthly_oneoff_purchase'].sum(), card_df_KPI['monthly_installment_purchase'].sum()]\n",
    "plt.bar(labels, values)\n",
    "for index,data in enumerate(values):\n",
    "    plt.text(x=index , y =data+1 , s=f\"{round(data)}\" , fontdict=dict(fontsize=15))\n",
    "plt.title('Amount compare for On-off Purchase and Installments')\n",
    "plt.ylabel(\"Total Amount\")\n",
    "plt.savefig('images/2.4.png')\n",
    "plt.show()"
   ]
  },
  {
   "cell_type": "markdown",
   "metadata": {},
   "source": [
    "### 2.5 Average amount per purchase and per cash advance comparison"
   ]
  },
  {
   "cell_type": "code",
   "execution_count": 27,
   "metadata": {},
   "outputs": [
    {
     "data": {
      "image/png": "[encoded data removed]",
      "text/plain": [
       "<Figure size 576x360 with 1 Axes>"
      ]
     },
     "metadata": {
      "needs_background": "light"
     },
     "output_type": "display_data"
    }
   ],
   "source": [
    "avg_purchase = card_df_KPI['average_amount_per_purchase'].sum()\n",
    "avg_cash = card_df_KPI['average_amount_per_cash_advance'].sum()\n",
    "labels = ['Purchase','Cash Advance']\n",
    "values = [avg_purchase, avg_cash]\n",
    "fig = plt.figure(figsize=(8,5))\n",
    "plt.bar(labels, values, color='grey', width=0.4)\n",
    "for index,data in enumerate(values):\n",
    "    plt.text(x=index , y =data+1 , s=f\"{round(data)}\" , fontdict=dict(fontsize=15))\n",
    "plt.title('Average Purchase per transaction vs Average Cash Advance per transaction')\n",
    "plt.ylabel(\"Total average amount\")\n",
    "plt.savefig('images/2.5.png')\n",
    "plt.show()"
   ]
  },
  {
   "cell_type": "markdown",
   "metadata": {},
   "source": [
    "### 2.6 People spending more than credit limit vs under credit limit but more than 50% vs less than 50%"
   ]
  },
  {
   "cell_type": "code",
   "execution_count": 28,
   "metadata": {},
   "outputs": [
    {
     "data": {
      "image/png": "[encoded data removed]",
      "text/plain": [
       "<Figure size 432x288 with 1 Axes>"
      ]
     },
     "metadata": {
      "needs_background": "light"
     },
     "output_type": "display_data"
    }
   ],
   "source": [
    "# card_df_KPI['b2c_lr']\n",
    "more_limit = (card_df_KPI['b2c_lr']>100).sum()\n",
    "less_limit = ((card_df_KPI['b2c_lr']>50) & (card_df_KPI['b2c_lr']<100)).sum()\n",
    "less_50 = (card_df_KPI['b2c_lr']<50).sum()\n",
    "labels = ['>100','<100 & >50','<50']\n",
    "values = [more_limit, less_limit, less_50]\n",
    "plt.bar(labels,values, color='red')\n",
    "plt.title(\"Limit Usages in %\")\n",
    "plt.ylabel(\"Count\")\n",
    "for index,data in enumerate(values):\n",
    "    plt.text(x=index , y =data+1 , s=f\"{round(data)}\" , fontdict=dict(fontsize=15))\n",
    "plt.savefig('images/2.6.png')\n",
    "plt.show()"
   ]
  },
  {
   "cell_type": "markdown",
   "metadata": {},
   "source": [
    "### 2.7 People who pay more than their minimum payments vs less than the minimum payment range"
   ]
  },
  {
   "cell_type": "markdown",
   "metadata": {},
   "source": [
    "Here,\n",
    "- <100 = Not paying enough\n",
    "- '>100 = Paying more than required\n"
   ]
  },
  {
   "cell_type": "code",
   "execution_count": 29,
   "metadata": {},
   "outputs": [
    {
     "data": {
      "image/png": "[encoded data removed]",
      "text/plain": [
       "<Figure size 432x288 with 1 Axes>"
      ]
     },
     "metadata": {
      "needs_background": "light"
     },
     "output_type": "display_data"
    }
   ],
   "source": [
    "paying_less = (card_df_KPI['pay_to_minpay_ratio']<100).sum()\n",
    "paying_more = (card_df_KPI['pay_to_minpay_ratio']>100).sum()\n",
    "values = [paying_less,  paying_more]\n",
    "labels = ['<100', '>100']\n",
    "plt.bar(labels,values, color='green')\n",
    "plt.title(\"Payments to the Minimum Payment\")\n",
    "plt.ylabel(\"Count\")\n",
    "for index,data in enumerate(values):\n",
    "    plt.text(x=index , y =data+1 , s=f\"{round(data)}\" , fontdict=dict(fontsize=15))\n",
    "plt.savefig('images/2.7.png')\n",
    "plt.show()"
   ]
  },
  {
   "cell_type": "markdown",
   "metadata": {},
   "source": [
    "# 3. Clustering"
   ]
  },
  {
   "cell_type": "markdown",
   "metadata": {},
   "source": [
    "Droping CUST_ID as there is no need"
   ]
  },
  {
   "cell_type": "code",
   "execution_count": 30,
   "metadata": {},
   "outputs": [],
   "source": [
    "card_df.drop('CUST_ID', axis=1,inplace=True)"
   ]
  },
  {
   "cell_type": "markdown",
   "metadata": {},
   "source": [
    "## Feature scaling"
   ]
  },
  {
   "cell_type": "markdown",
   "metadata": {},
   "source": [
    "Normalizing the data"
   ]
  },
  {
   "cell_type": "code",
   "execution_count": 35,
   "metadata": {},
   "outputs": [
    {
     "data": {
      "text/html": [
       "<div>\n",
       "<style scoped>\n",
       "    .dataframe tbody tr th:only-of-type {\n",
       "        vertical-align: middle;\n",
       "    }\n",
       "\n",
       "    .dataframe tbody tr th {\n",
       "        vertical-align: top;\n",
       "    }\n",
       "\n",
       "    .dataframe thead th {\n",
       "        text-align: right;\n",
       "    }\n",
       "</style>\n",
       "<table border=\"1\" class=\"dataframe\">\n",
       "  <thead>\n",
       "    <tr style=\"text-align: right;\">\n",
       "      <th></th>\n",
       "      <th>0</th>\n",
       "      <th>1</th>\n",
       "      <th>2</th>\n",
       "      <th>3</th>\n",
       "      <th>4</th>\n",
       "      <th>5</th>\n",
       "      <th>6</th>\n",
       "      <th>7</th>\n",
       "      <th>8</th>\n",
       "      <th>9</th>\n",
       "      <th>10</th>\n",
       "      <th>11</th>\n",
       "      <th>12</th>\n",
       "      <th>13</th>\n",
       "      <th>14</th>\n",
       "      <th>15</th>\n",
       "      <th>16</th>\n",
       "    </tr>\n",
       "  </thead>\n",
       "  <tbody>\n",
       "    <tr>\n",
       "      <th>0</th>\n",
       "      <td>0.002148</td>\n",
       "      <td>0.818182</td>\n",
       "      <td>0.001945</td>\n",
       "      <td>0.000000</td>\n",
       "      <td>0.004240</td>\n",
       "      <td>0.000000</td>\n",
       "      <td>0.166667</td>\n",
       "      <td>0.000000</td>\n",
       "      <td>0.083333</td>\n",
       "      <td>0.000000</td>\n",
       "      <td>0.00000</td>\n",
       "      <td>0.005587</td>\n",
       "      <td>0.031720</td>\n",
       "      <td>0.003978</td>\n",
       "      <td>0.001826</td>\n",
       "      <td>0.000000</td>\n",
       "      <td>1.0</td>\n",
       "    </tr>\n",
       "    <tr>\n",
       "      <th>1</th>\n",
       "      <td>0.168169</td>\n",
       "      <td>0.909091</td>\n",
       "      <td>0.000000</td>\n",
       "      <td>0.000000</td>\n",
       "      <td>0.000000</td>\n",
       "      <td>0.136685</td>\n",
       "      <td>0.000000</td>\n",
       "      <td>0.000000</td>\n",
       "      <td>0.000000</td>\n",
       "      <td>0.166667</td>\n",
       "      <td>0.03252</td>\n",
       "      <td>0.000000</td>\n",
       "      <td>0.232053</td>\n",
       "      <td>0.080892</td>\n",
       "      <td>0.014034</td>\n",
       "      <td>0.222222</td>\n",
       "      <td>1.0</td>\n",
       "    </tr>\n",
       "    <tr>\n",
       "      <th>2</th>\n",
       "      <td>0.131026</td>\n",
       "      <td>1.000000</td>\n",
       "      <td>0.015766</td>\n",
       "      <td>0.018968</td>\n",
       "      <td>0.000000</td>\n",
       "      <td>0.000000</td>\n",
       "      <td>1.000000</td>\n",
       "      <td>1.000000</td>\n",
       "      <td>0.000000</td>\n",
       "      <td>0.000000</td>\n",
       "      <td>0.00000</td>\n",
       "      <td>0.033520</td>\n",
       "      <td>0.248748</td>\n",
       "      <td>0.012263</td>\n",
       "      <td>0.008210</td>\n",
       "      <td>0.000000</td>\n",
       "      <td>1.0</td>\n",
       "    </tr>\n",
       "    <tr>\n",
       "      <th>3</th>\n",
       "      <td>0.042940</td>\n",
       "      <td>1.000000</td>\n",
       "      <td>0.000326</td>\n",
       "      <td>0.000393</td>\n",
       "      <td>0.000000</td>\n",
       "      <td>0.000000</td>\n",
       "      <td>0.083333</td>\n",
       "      <td>0.083333</td>\n",
       "      <td>0.000000</td>\n",
       "      <td>0.000000</td>\n",
       "      <td>0.00000</td>\n",
       "      <td>0.002793</td>\n",
       "      <td>0.038397</td>\n",
       "      <td>0.013373</td>\n",
       "      <td>0.003204</td>\n",
       "      <td>0.000000</td>\n",
       "      <td>1.0</td>\n",
       "    </tr>\n",
       "    <tr>\n",
       "      <th>4</th>\n",
       "      <td>0.095038</td>\n",
       "      <td>1.000000</td>\n",
       "      <td>0.027188</td>\n",
       "      <td>0.000000</td>\n",
       "      <td>0.059257</td>\n",
       "      <td>0.000000</td>\n",
       "      <td>0.666667</td>\n",
       "      <td>0.000000</td>\n",
       "      <td>0.583333</td>\n",
       "      <td>0.000000</td>\n",
       "      <td>0.00000</td>\n",
       "      <td>0.022346</td>\n",
       "      <td>0.058431</td>\n",
       "      <td>0.027602</td>\n",
       "      <td>0.031506</td>\n",
       "      <td>0.000000</td>\n",
       "      <td>1.0</td>\n",
       "    </tr>\n",
       "  </tbody>\n",
       "</table>\n",
       "</div>"
      ],
      "text/plain": [
       "          0         1         2         3         4         5         6  \\\n",
       "0  0.002148  0.818182  0.001945  0.000000  0.004240  0.000000  0.166667   \n",
       "1  0.168169  0.909091  0.000000  0.000000  0.000000  0.136685  0.000000   \n",
       "2  0.131026  1.000000  0.015766  0.018968  0.000000  0.000000  1.000000   \n",
       "3  0.042940  1.000000  0.000326  0.000393  0.000000  0.000000  0.083333   \n",
       "4  0.095038  1.000000  0.027188  0.000000  0.059257  0.000000  0.666667   \n",
       "\n",
       "          7         8         9       10        11        12        13  \\\n",
       "0  0.000000  0.083333  0.000000  0.00000  0.005587  0.031720  0.003978   \n",
       "1  0.000000  0.000000  0.166667  0.03252  0.000000  0.232053  0.080892   \n",
       "2  1.000000  0.000000  0.000000  0.00000  0.033520  0.248748  0.012263   \n",
       "3  0.083333  0.000000  0.000000  0.00000  0.002793  0.038397  0.013373   \n",
       "4  0.000000  0.583333  0.000000  0.00000  0.022346  0.058431  0.027602   \n",
       "\n",
       "         14        15   16  \n",
       "0  0.001826  0.000000  1.0  \n",
       "1  0.014034  0.222222  1.0  \n",
       "2  0.008210  0.000000  1.0  \n",
       "3  0.003204  0.000000  1.0  \n",
       "4  0.031506  0.000000  1.0  "
      ]
     },
     "execution_count": 35,
     "metadata": {},
     "output_type": "execute_result"
    }
   ],
   "source": [
    "card_df_norm = MinMaxScaler().fit_transform(card_df)\n",
    "pd.DataFrame(card_df_norm).head()"
   ]
  },
  {
   "cell_type": "markdown",
   "metadata": {},
   "source": [
    "## 3.1 Dimensionality Reduction - Factor Analysis"
   ]
  },
  {
   "cell_type": "markdown",
   "metadata": {},
   "source": [
    "Bartlett’s test of sphericity checks whether or not the observed variables intercorrelate at all using the observed correlation matrix against the identity matrix. If the test found statistically insignificant, you should not employ a factor analysis\n"
   ]
  },
  {
   "cell_type": "code",
   "execution_count": 36,
   "metadata": {},
   "outputs": [
    {
     "name": "stdout",
     "output_type": "stream",
     "text": [
      "168105.4708831173 0.0\n"
     ]
    }
   ],
   "source": [
    "chi_square_value,p_value=calculate_bartlett_sphericity(card_df_norm)\n",
    "print(chi_square_value, p_value)"
   ]
  },
  {
   "cell_type": "markdown",
   "metadata": {},
   "source": [
    "##### In this Bartlett ’s test, the p-value is 0. The test was statistically significant, indicating that the observed correlation matrix is not an identity matrix.\n"
   ]
  },
  {
   "cell_type": "markdown",
   "metadata": {},
   "source": [
    "Kaiser-Meyer-Olkin (KMO) Test measures the suitability of data for factor analysis. It determines the adequacy for each observed variable and for the complete model. KMO estimates the proportion of variance among all the observed variable. Lower proportion id more suitable for factor analysis. KMO values range between 0 and 1. Value of KMO less than 0.6 is considered inadequate."
   ]
  },
  {
   "cell_type": "code",
   "execution_count": 37,
   "metadata": {},
   "outputs": [
    {
     "name": "stderr",
     "output_type": "stream",
     "text": [
      "C:\\Users\\91762\\AppData\\Local\\Programs\\Python\\Python36\\lib\\site-packages\\factor_analyzer\\utils.py:248: UserWarning: The inverse of the variance-covariance matrix was calculated using the Moore-Penrose generalized matrix inversion, due to its determinant being at or very close to zero.\n",
      "  warnings.warn('The inverse of the variance-covariance matrix '\n"
     ]
    },
    {
     "data": {
      "text/plain": [
       "0.6410720120636468"
      ]
     },
     "execution_count": 37,
     "metadata": {},
     "output_type": "execute_result"
    }
   ],
   "source": [
    "kmo_all,kmo_model=calculate_kmo(card_df_norm)\n",
    "kmo_model"
   ]
  },
  {
   "cell_type": "markdown",
   "metadata": {},
   "source": [
    "###### Here kmo_model value is 0.64, so it is adequate."
   ]
  },
  {
   "cell_type": "markdown",
   "metadata": {},
   "source": [
    "### Choosing the Number of Factors"
   ]
  },
  {
   "cell_type": "code",
   "execution_count": 38,
   "metadata": {},
   "outputs": [
    {
     "data": {
      "text/plain": [
       "array([4.63228844e+00, 3.46601931e+00, 1.51462156e+00, 1.28778393e+00,\n",
       "       1.06584601e+00, 9.70935522e-01, 8.36194743e-01, 7.16046060e-01,\n",
       "       6.26370404e-01, 5.23593624e-01, 4.01811867e-01, 3.01428933e-01,\n",
       "       2.42429872e-01, 1.97298034e-01, 1.71206664e-01, 4.61132978e-02,\n",
       "       1.17202756e-05])"
      ]
     },
     "execution_count": 38,
     "metadata": {},
     "output_type": "execute_result"
    }
   ],
   "source": [
    "fa = FactorAnalyzer()\n",
    "fa.set_params(n_factors=25, rotation=None)\n",
    "fa.fit(card_df_norm)\n",
    "# Check Eigenvalues\n",
    "ev, v = fa.get_eigenvalues()\n",
    "ev"
   ]
  },
  {
   "cell_type": "code",
   "execution_count": 39,
   "metadata": {},
   "outputs": [
    {
     "data": {
      "image/png": "[encoded data removed]",
      "text/plain": [
       "<Figure size 432x288 with 1 Axes>"
      ]
     },
     "metadata": {
      "needs_background": "light"
     },
     "output_type": "display_data"
    }
   ],
   "source": [
    "# Create scree plot using matplotlib\n",
    "plt.scatter(range(1,card_df_norm.shape[1]+1),ev)\n",
    "plt.plot(range(1,card_df_norm.shape[1]+1),ev)\n",
    "plt.title('Scree Plot')\n",
    "plt.xlabel('Factors')\n",
    "plt.ylabel('Eigenvalue')\n",
    "plt.grid()\n",
    "plt.savefig('images/Scree Plot.png')\n",
    "plt.show()"
   ]
  },
  {
   "cell_type": "markdown",
   "metadata": {},
   "source": [
    "The scree plot method draws a straight line for each factor and its eigenvalues. Number eigenvalues greater than one considered as the number of factors."
   ]
  },
  {
   "cell_type": "markdown",
   "metadata": {},
   "source": [
    "Here, you can see only for 5-factors eigenvalues are greater than one. It means we need to choose only 5 factors (or unobserved variables)."
   ]
  },
  {
   "cell_type": "code",
   "execution_count": 40,
   "metadata": {},
   "outputs": [],
   "source": [
    "sk_fa = FactorAnalysis(n_components=5, random_state=0)\n",
    "X_fa = sk_fa.fit_transform(card_df_norm)\n",
    "# sk_fa.components_"
   ]
  },
  {
   "cell_type": "code",
   "execution_count": 41,
   "metadata": {},
   "outputs": [
    {
     "data": {
      "text/plain": [
       "(8630, 5)"
      ]
     },
     "execution_count": 41,
     "metadata": {},
     "output_type": "execute_result"
    }
   ],
   "source": [
    "X_fa.shape\n",
    "# sk_fa.components_.shape"
   ]
  },
  {
   "cell_type": "markdown",
   "metadata": {},
   "source": [
    "## Let's find out how mant clusters we can make"
   ]
  },
  {
   "cell_type": "markdown",
   "metadata": {},
   "source": [
    "#### K-Means wcss score"
   ]
  },
  {
   "cell_type": "code",
   "execution_count": 55,
   "metadata": {},
   "outputs": [
    {
     "data": {
      "image/png": "[encoded data removed]",
      "text/plain": [
       "<Figure size 576x360 with 1 Axes>"
      ]
     },
     "metadata": {
      "needs_background": "light"
     },
     "output_type": "display_data"
    }
   ],
   "source": [
    "wcss = [] # Within cluster sum of squares\n",
    "num = 21\n",
    "for i in range(1,num):\n",
    "    kmeans = KMeans(n_clusters=i)\n",
    "    kmeans.fit(X_fa)\n",
    "    wcss.append(kmeans.inertia_)\n",
    "fig = plt.figure(figsize=(8,5))\n",
    "plt.plot(range(1,num), wcss, marker=\"o\")\n",
    "plt.title('The Elbow Method')\n",
    "plt.xlabel('Number of clusters')\n",
    "plt.ylabel('WCSS')\n",
    "plt.savefig('images/Wcss.png')\n",
    "plt.show()"
   ]
  },
  {
   "cell_type": "markdown",
   "metadata": {},
   "source": [
    "### Dendrogram"
   ]
  },
  {
   "cell_type": "code",
   "execution_count": 43,
   "metadata": {},
   "outputs": [
    {
     "data": {
      "image/png": "[encoded data removed]",
      "text/plain": [
       "<Figure size 432x288 with 1 Axes>"
      ]
     },
     "metadata": {
      "needs_background": "light"
     },
     "output_type": "display_data"
    }
   ],
   "source": [
    "dendrogram = sch.dendrogram(sch.linkage(X_fa, method='ward'))\n",
    "plt.title('Dendrogram')\n",
    "plt.xlabel('Customers')\n",
    "plt.ylabel('Euclidean Distance')\n",
    "plt.savefig('images/Dendrogram.png')\n",
    "plt.show()"
   ]
  },
  {
   "cell_type": "markdown",
   "metadata": {},
   "source": [
    "#### Based on elbow method and dendrogram we can see that  7 clusters are required"
   ]
  },
  {
   "cell_type": "code",
   "execution_count": 68,
   "metadata": {},
   "outputs": [],
   "source": [
    "kmeans = KMeans(n_clusters=7, init='k-means++', n_init=10, max_iter=300, random_state=0)\n",
    "y_kmeans = kmeans.fit_predict(X_fa)"
   ]
  },
  {
   "cell_type": "code",
   "execution_count": 69,
   "metadata": {},
   "outputs": [
    {
     "data": {
      "text/plain": [
       "array([2, 0, 1, 4, 5, 6, 3], dtype=int64)"
      ]
     },
     "execution_count": 69,
     "metadata": {},
     "output_type": "execute_result"
    }
   ],
   "source": [
    "pd.Series(y_kmeans).unique()"
   ]
  },
  {
   "cell_type": "code",
   "execution_count": 70,
   "metadata": {
    "scrolled": true
   },
   "outputs": [
    {
     "data": {
      "text/html": [
       "<div>\n",
       "<style scoped>\n",
       "    .dataframe tbody tr th:only-of-type {\n",
       "        vertical-align: middle;\n",
       "    }\n",
       "\n",
       "    .dataframe tbody tr th {\n",
       "        vertical-align: top;\n",
       "    }\n",
       "\n",
       "    .dataframe thead th {\n",
       "        text-align: right;\n",
       "    }\n",
       "</style>\n",
       "<table border=\"1\" class=\"dataframe\">\n",
       "  <thead>\n",
       "    <tr style=\"text-align: right;\">\n",
       "      <th></th>\n",
       "      <th>CUST_ID</th>\n",
       "      <th>0</th>\n",
       "      <th>1</th>\n",
       "      <th>2</th>\n",
       "      <th>3</th>\n",
       "      <th>4</th>\n",
       "      <th>0</th>\n",
       "    </tr>\n",
       "  </thead>\n",
       "  <tbody>\n",
       "    <tr>\n",
       "      <th>0</th>\n",
       "      <td>C10001</td>\n",
       "      <td>-0.420667</td>\n",
       "      <td>-0.129492</td>\n",
       "      <td>0.673971</td>\n",
       "      <td>-0.869714</td>\n",
       "      <td>-0.464466</td>\n",
       "      <td>2.0</td>\n",
       "    </tr>\n",
       "    <tr>\n",
       "      <th>1</th>\n",
       "      <td>C10002</td>\n",
       "      <td>-0.455693</td>\n",
       "      <td>-0.236857</td>\n",
       "      <td>1.155738</td>\n",
       "      <td>0.630645</td>\n",
       "      <td>0.025174</td>\n",
       "      <td>2.0</td>\n",
       "    </tr>\n",
       "    <tr>\n",
       "      <th>2</th>\n",
       "      <td>C10003</td>\n",
       "      <td>-0.067794</td>\n",
       "      <td>-0.514662</td>\n",
       "      <td>-1.567451</td>\n",
       "      <td>0.792246</td>\n",
       "      <td>-0.663785</td>\n",
       "      <td>0.0</td>\n",
       "    </tr>\n",
       "    <tr>\n",
       "      <th>3</th>\n",
       "      <td>NaN</td>\n",
       "      <td>-0.447577</td>\n",
       "      <td>-0.241453</td>\n",
       "      <td>0.874195</td>\n",
       "      <td>-0.533618</td>\n",
       "      <td>-0.688064</td>\n",
       "      <td>2.0</td>\n",
       "    </tr>\n",
       "    <tr>\n",
       "      <th>4</th>\n",
       "      <td>C10005</td>\n",
       "      <td>0.030644</td>\n",
       "      <td>1.232552</td>\n",
       "      <td>-0.076981</td>\n",
       "      <td>0.060876</td>\n",
       "      <td>-0.587285</td>\n",
       "      <td>0.0</td>\n",
       "    </tr>\n",
       "  </tbody>\n",
       "</table>\n",
       "</div>"
      ],
      "text/plain": [
       "  CUST_ID         0         1         2         3         4    0\n",
       "0  C10001 -0.420667 -0.129492  0.673971 -0.869714 -0.464466  2.0\n",
       "1  C10002 -0.455693 -0.236857  1.155738  0.630645  0.025174  2.0\n",
       "2  C10003 -0.067794 -0.514662 -1.567451  0.792246 -0.663785  0.0\n",
       "3     NaN -0.447577 -0.241453  0.874195 -0.533618 -0.688064  2.0\n",
       "4  C10005  0.030644  1.232552 -0.076981  0.060876 -0.587285  0.0"
      ]
     },
     "execution_count": 70,
     "metadata": {},
     "output_type": "execute_result"
    }
   ],
   "source": [
    "clustered_data = pd.concat([card_df_KPI['CUST_ID'],pd.DataFrame(X_fa), pd.DataFrame(y_kmeans)], axis=1)\n",
    "clustered_data.head()"
   ]
  },
  {
   "cell_type": "code",
   "execution_count": 71,
   "metadata": {},
   "outputs": [
    {
     "data": {
      "text/html": [
       "<div>\n",
       "<style scoped>\n",
       "    .dataframe tbody tr th:only-of-type {\n",
       "        vertical-align: middle;\n",
       "    }\n",
       "\n",
       "    .dataframe tbody tr th {\n",
       "        vertical-align: top;\n",
       "    }\n",
       "\n",
       "    .dataframe thead th {\n",
       "        text-align: right;\n",
       "    }\n",
       "</style>\n",
       "<table border=\"1\" class=\"dataframe\">\n",
       "  <thead>\n",
       "    <tr style=\"text-align: right;\">\n",
       "      <th></th>\n",
       "      <th>CUST_ID</th>\n",
       "      <th>BALANCE</th>\n",
       "      <th>BALANCE_FREQUENCY</th>\n",
       "      <th>PURCHASES</th>\n",
       "      <th>ONEOFF_PURCHASES</th>\n",
       "      <th>INSTALLMENTS_PURCHASES</th>\n",
       "      <th>CASH_ADVANCE</th>\n",
       "      <th>PURCHASES_FREQUENCY</th>\n",
       "      <th>ONEOFF_PURCHASES_FREQUENCY</th>\n",
       "      <th>PURCHASES_INSTALLMENTS_FREQUENCY</th>\n",
       "      <th>CASH_ADVANCE_FREQUENCY</th>\n",
       "      <th>CASH_ADVANCE_TRX</th>\n",
       "      <th>PURCHASES_TRX</th>\n",
       "      <th>CREDIT_LIMIT</th>\n",
       "      <th>PAYMENTS</th>\n",
       "      <th>MINIMUM_PAYMENTS</th>\n",
       "      <th>PRC_FULL_PAYMENT</th>\n",
       "      <th>TENURE</th>\n",
       "      <th>Clusters</th>\n",
       "    </tr>\n",
       "  </thead>\n",
       "  <tbody>\n",
       "    <tr>\n",
       "      <th>0</th>\n",
       "      <td>C10001</td>\n",
       "      <td>40.900749</td>\n",
       "      <td>0.818182</td>\n",
       "      <td>95.40</td>\n",
       "      <td>0.00</td>\n",
       "      <td>95.40</td>\n",
       "      <td>0.000000</td>\n",
       "      <td>0.166667</td>\n",
       "      <td>0.000000</td>\n",
       "      <td>0.083333</td>\n",
       "      <td>0.00</td>\n",
       "      <td>0.0</td>\n",
       "      <td>2.0</td>\n",
       "      <td>1000.0</td>\n",
       "      <td>201.802084</td>\n",
       "      <td>139.509787</td>\n",
       "      <td>0.000000</td>\n",
       "      <td>12.0</td>\n",
       "      <td>2.0</td>\n",
       "    </tr>\n",
       "    <tr>\n",
       "      <th>1</th>\n",
       "      <td>C10002</td>\n",
       "      <td>3202.467416</td>\n",
       "      <td>0.909091</td>\n",
       "      <td>0.00</td>\n",
       "      <td>0.00</td>\n",
       "      <td>0.00</td>\n",
       "      <td>6442.945483</td>\n",
       "      <td>0.000000</td>\n",
       "      <td>0.000000</td>\n",
       "      <td>0.000000</td>\n",
       "      <td>0.25</td>\n",
       "      <td>4.0</td>\n",
       "      <td>0.0</td>\n",
       "      <td>7000.0</td>\n",
       "      <td>4103.032597</td>\n",
       "      <td>1072.340217</td>\n",
       "      <td>0.222222</td>\n",
       "      <td>12.0</td>\n",
       "      <td>2.0</td>\n",
       "    </tr>\n",
       "    <tr>\n",
       "      <th>2</th>\n",
       "      <td>C10003</td>\n",
       "      <td>2495.148862</td>\n",
       "      <td>1.000000</td>\n",
       "      <td>773.17</td>\n",
       "      <td>773.17</td>\n",
       "      <td>0.00</td>\n",
       "      <td>0.000000</td>\n",
       "      <td>1.000000</td>\n",
       "      <td>1.000000</td>\n",
       "      <td>0.000000</td>\n",
       "      <td>0.00</td>\n",
       "      <td>0.0</td>\n",
       "      <td>12.0</td>\n",
       "      <td>7500.0</td>\n",
       "      <td>622.066742</td>\n",
       "      <td>627.284787</td>\n",
       "      <td>0.000000</td>\n",
       "      <td>12.0</td>\n",
       "      <td>0.0</td>\n",
       "    </tr>\n",
       "    <tr>\n",
       "      <th>4</th>\n",
       "      <td>C10005</td>\n",
       "      <td>817.714335</td>\n",
       "      <td>1.000000</td>\n",
       "      <td>16.00</td>\n",
       "      <td>16.00</td>\n",
       "      <td>0.00</td>\n",
       "      <td>0.000000</td>\n",
       "      <td>0.083333</td>\n",
       "      <td>0.083333</td>\n",
       "      <td>0.000000</td>\n",
       "      <td>0.00</td>\n",
       "      <td>0.0</td>\n",
       "      <td>1.0</td>\n",
       "      <td>1200.0</td>\n",
       "      <td>678.334763</td>\n",
       "      <td>244.791237</td>\n",
       "      <td>0.000000</td>\n",
       "      <td>12.0</td>\n",
       "      <td>0.0</td>\n",
       "    </tr>\n",
       "    <tr>\n",
       "      <th>5</th>\n",
       "      <td>C10006</td>\n",
       "      <td>1809.828751</td>\n",
       "      <td>1.000000</td>\n",
       "      <td>1333.28</td>\n",
       "      <td>0.00</td>\n",
       "      <td>1333.28</td>\n",
       "      <td>0.000000</td>\n",
       "      <td>0.666667</td>\n",
       "      <td>0.000000</td>\n",
       "      <td>0.583333</td>\n",
       "      <td>0.00</td>\n",
       "      <td>0.0</td>\n",
       "      <td>8.0</td>\n",
       "      <td>1800.0</td>\n",
       "      <td>1400.057770</td>\n",
       "      <td>2407.246035</td>\n",
       "      <td>0.000000</td>\n",
       "      <td>12.0</td>\n",
       "      <td>1.0</td>\n",
       "    </tr>\n",
       "  </tbody>\n",
       "</table>\n",
       "</div>"
      ],
      "text/plain": [
       "  CUST_ID      BALANCE  BALANCE_FREQUENCY  PURCHASES  ONEOFF_PURCHASES  \\\n",
       "0  C10001    40.900749           0.818182      95.40              0.00   \n",
       "1  C10002  3202.467416           0.909091       0.00              0.00   \n",
       "2  C10003  2495.148862           1.000000     773.17            773.17   \n",
       "4  C10005   817.714335           1.000000      16.00             16.00   \n",
       "5  C10006  1809.828751           1.000000    1333.28              0.00   \n",
       "\n",
       "   INSTALLMENTS_PURCHASES  CASH_ADVANCE  PURCHASES_FREQUENCY  \\\n",
       "0                   95.40      0.000000             0.166667   \n",
       "1                    0.00   6442.945483             0.000000   \n",
       "2                    0.00      0.000000             1.000000   \n",
       "4                    0.00      0.000000             0.083333   \n",
       "5                 1333.28      0.000000             0.666667   \n",
       "\n",
       "   ONEOFF_PURCHASES_FREQUENCY  PURCHASES_INSTALLMENTS_FREQUENCY  \\\n",
       "0                    0.000000                          0.083333   \n",
       "1                    0.000000                          0.000000   \n",
       "2                    1.000000                          0.000000   \n",
       "4                    0.083333                          0.000000   \n",
       "5                    0.000000                          0.583333   \n",
       "\n",
       "   CASH_ADVANCE_FREQUENCY  CASH_ADVANCE_TRX  PURCHASES_TRX  CREDIT_LIMIT  \\\n",
       "0                    0.00               0.0            2.0        1000.0   \n",
       "1                    0.25               4.0            0.0        7000.0   \n",
       "2                    0.00               0.0           12.0        7500.0   \n",
       "4                    0.00               0.0            1.0        1200.0   \n",
       "5                    0.00               0.0            8.0        1800.0   \n",
       "\n",
       "      PAYMENTS  MINIMUM_PAYMENTS  PRC_FULL_PAYMENT  TENURE  Clusters  \n",
       "0   201.802084        139.509787          0.000000    12.0       2.0  \n",
       "1  4103.032597       1072.340217          0.222222    12.0       2.0  \n",
       "2   622.066742        627.284787          0.000000    12.0       0.0  \n",
       "4   678.334763        244.791237          0.000000    12.0       0.0  \n",
       "5  1400.057770       2407.246035          0.000000    12.0       1.0  "
      ]
     },
     "execution_count": 71,
     "metadata": {},
     "output_type": "execute_result"
    }
   ],
   "source": [
    "card_df_clustered = pd.concat([card_df_KPI['CUST_ID'],card_df, pd.DataFrame(y_kmeans)], axis=1).dropna()\n",
    "card_df_clustered.rename(columns={0:'Clusters'}, inplace=True)\n",
    "card_df_clustered.head()"
   ]
  }
 ],
 "metadata": {
  "kernelspec": {
   "display_name": "Python 3.6.8 64-bit",
   "language": "python",
   "name": "python36864bitba0b5e3591074ea8ad173b92b96d47f0"
  },
  "language_info": {
   "codemirror_mode": {
    "name": "ipython",
    "version": 3
   },
   "file_extension": ".py",
   "mimetype": "text/x-python",
   "name": "python",
   "nbconvert_exporter": "python",
   "pygments_lexer": "ipython3",
   "version": "3.6.8"
  }
 },
 "nbformat": 4,
 "nbformat_minor": 2
}
